{
 "cells": [
  {
   "cell_type": "markdown",
   "metadata": {},
   "source": [
    "#                                        Fake -News Detection Project"
   ]
  },
  {
   "cell_type": "markdown",
   "metadata": {},
   "source": [
    "# Problem statement:\n",
    "The authenticity of Information has become a longstanding issue affecting businesses and society, both for printed and digital media. On social networks, the reach and effects of information spread occur at such a fast pace and so amplified that distorted, inaccurate, or false information acquires a tremendous potential to cause real-world impacts, within minutes, for millions of users. Recently, several public concerns about this problem and some approaches to mitigate the problem were expressed. \n",
    "In this project, you are given a dataset in the fake-news_data.zip folder. The folder contains a CSV files train_news.csv and you have to use the train_news.csv data to build a model to predict whether a news is fake or not fake. You have to try out different models on the dataset, evaluate their performance, and finally report the best model you got on the data and its performance.\n"
   ]
  },
  {
   "cell_type": "markdown",
   "metadata": {},
   "source": [
    "# Data- Description:\n",
    "\n",
    "There are 6 columns in the dataset provided to you. The description of each of the column is given below:\n",
    "\n",
    "“id”:  Unique id of each news article\n",
    "\n",
    "“headline”:  It is the title of the news.\n",
    "\n",
    "“news”:  It contains the full text of the news article\n",
    "\n",
    "“Unnamed:0”:  It is a serial number\n",
    "\n",
    "“written_by”:  It represents the author of the news article\n",
    "\n",
    "“label”:  It tells whether the news is fake (1) or not fake (0).\n"
   ]
  },
  {
   "cell_type": "code",
   "execution_count": 1,
   "metadata": {},
   "outputs": [],
   "source": [
    "import pandas as pd\n",
    "import numpy as np\n",
    "import matplotlib.pyplot as plt\n",
    "import numpy as np"
   ]
  },
  {
   "cell_type": "code",
   "execution_count": 2,
   "metadata": {},
   "outputs": [],
   "source": [
    "data=pd.read_csv('train_news.csv')"
   ]
  },
  {
   "cell_type": "code",
   "execution_count": 3,
   "metadata": {},
   "outputs": [
    {
     "data": {
      "text/html": [
       "<div>\n",
       "<style scoped>\n",
       "    .dataframe tbody tr th:only-of-type {\n",
       "        vertical-align: middle;\n",
       "    }\n",
       "\n",
       "    .dataframe tbody tr th {\n",
       "        vertical-align: top;\n",
       "    }\n",
       "\n",
       "    .dataframe thead th {\n",
       "        text-align: right;\n",
       "    }\n",
       "</style>\n",
       "<table border=\"1\" class=\"dataframe\">\n",
       "  <thead>\n",
       "    <tr style=\"text-align: right;\">\n",
       "      <th></th>\n",
       "      <th>Unnamed: 0</th>\n",
       "      <th>id</th>\n",
       "      <th>headline</th>\n",
       "      <th>written_by</th>\n",
       "      <th>news</th>\n",
       "      <th>label</th>\n",
       "    </tr>\n",
       "  </thead>\n",
       "  <tbody>\n",
       "    <tr>\n",
       "      <td>0</td>\n",
       "      <td>0</td>\n",
       "      <td>9653</td>\n",
       "      <td>Ethics Questions Dogged Agriculture Nominee as...</td>\n",
       "      <td>Eric Lipton and Steve Eder</td>\n",
       "      <td>WASHINGTON  —   In Sonny Perdue’s telling, Geo...</td>\n",
       "      <td>0</td>\n",
       "    </tr>\n",
       "    <tr>\n",
       "      <td>1</td>\n",
       "      <td>1</td>\n",
       "      <td>10041</td>\n",
       "      <td>U.S. Must Dig Deep to Stop Argentina’s Lionel ...</td>\n",
       "      <td>David Waldstein</td>\n",
       "      <td>HOUSTON  —   Venezuela had a plan. It was a ta...</td>\n",
       "      <td>0</td>\n",
       "    </tr>\n",
       "    <tr>\n",
       "      <td>2</td>\n",
       "      <td>2</td>\n",
       "      <td>19113</td>\n",
       "      <td>Cotton to House: ’Do Not Walk the Plank and Vo...</td>\n",
       "      <td>Pam Key</td>\n",
       "      <td>Sunday on ABC’s “This Week,” while discussing ...</td>\n",
       "      <td>0</td>\n",
       "    </tr>\n",
       "    <tr>\n",
       "      <td>3</td>\n",
       "      <td>3</td>\n",
       "      <td>6868</td>\n",
       "      <td>Paul LePage, Besieged Maine Governor, Sends Co...</td>\n",
       "      <td>Jess Bidgood</td>\n",
       "      <td>AUGUSTA, Me.  —   The beleaguered Republican g...</td>\n",
       "      <td>0</td>\n",
       "    </tr>\n",
       "    <tr>\n",
       "      <td>4</td>\n",
       "      <td>4</td>\n",
       "      <td>7596</td>\n",
       "      <td>A Digital 9/11 If Trump Wins</td>\n",
       "      <td>Finian Cunningham</td>\n",
       "      <td>Finian Cunningham has written extensively on...</td>\n",
       "      <td>1</td>\n",
       "    </tr>\n",
       "  </tbody>\n",
       "</table>\n",
       "</div>"
      ],
      "text/plain": [
       "   Unnamed: 0     id                                           headline  \\\n",
       "0           0   9653  Ethics Questions Dogged Agriculture Nominee as...   \n",
       "1           1  10041  U.S. Must Dig Deep to Stop Argentina’s Lionel ...   \n",
       "2           2  19113  Cotton to House: ’Do Not Walk the Plank and Vo...   \n",
       "3           3   6868  Paul LePage, Besieged Maine Governor, Sends Co...   \n",
       "4           4   7596                       A Digital 9/11 If Trump Wins   \n",
       "\n",
       "                   written_by  \\\n",
       "0  Eric Lipton and Steve Eder   \n",
       "1             David Waldstein   \n",
       "2                     Pam Key   \n",
       "3                Jess Bidgood   \n",
       "4           Finian Cunningham   \n",
       "\n",
       "                                                news  label  \n",
       "0  WASHINGTON  —   In Sonny Perdue’s telling, Geo...      0  \n",
       "1  HOUSTON  —   Venezuela had a plan. It was a ta...      0  \n",
       "2  Sunday on ABC’s “This Week,” while discussing ...      0  \n",
       "3  AUGUSTA, Me.  —   The beleaguered Republican g...      0  \n",
       "4    Finian Cunningham has written extensively on...      1  "
      ]
     },
     "execution_count": 3,
     "metadata": {},
     "output_type": "execute_result"
    }
   ],
   "source": [
    "data.head()"
   ]
  },
  {
   "cell_type": "code",
   "execution_count": 4,
   "metadata": {},
   "outputs": [
    {
     "data": {
      "text/plain": [
       "(20800, 6)"
      ]
     },
     "execution_count": 4,
     "metadata": {},
     "output_type": "execute_result"
    }
   ],
   "source": [
    "data.shape"
   ]
  },
  {
   "cell_type": "code",
   "execution_count": 5,
   "metadata": {},
   "outputs": [],
   "source": [
    "data.drop(data.columns[0], axis=1, inplace=True)"
   ]
  },
  {
   "cell_type": "code",
   "execution_count": 6,
   "metadata": {},
   "outputs": [
    {
     "data": {
      "text/html": [
       "<div>\n",
       "<style scoped>\n",
       "    .dataframe tbody tr th:only-of-type {\n",
       "        vertical-align: middle;\n",
       "    }\n",
       "\n",
       "    .dataframe tbody tr th {\n",
       "        vertical-align: top;\n",
       "    }\n",
       "\n",
       "    .dataframe thead th {\n",
       "        text-align: right;\n",
       "    }\n",
       "</style>\n",
       "<table border=\"1\" class=\"dataframe\">\n",
       "  <thead>\n",
       "    <tr style=\"text-align: right;\">\n",
       "      <th></th>\n",
       "      <th>id</th>\n",
       "      <th>headline</th>\n",
       "      <th>written_by</th>\n",
       "      <th>news</th>\n",
       "      <th>label</th>\n",
       "    </tr>\n",
       "  </thead>\n",
       "  <tbody>\n",
       "    <tr>\n",
       "      <td>0</td>\n",
       "      <td>9653</td>\n",
       "      <td>Ethics Questions Dogged Agriculture Nominee as...</td>\n",
       "      <td>Eric Lipton and Steve Eder</td>\n",
       "      <td>WASHINGTON  —   In Sonny Perdue’s telling, Geo...</td>\n",
       "      <td>0</td>\n",
       "    </tr>\n",
       "    <tr>\n",
       "      <td>1</td>\n",
       "      <td>10041</td>\n",
       "      <td>U.S. Must Dig Deep to Stop Argentina’s Lionel ...</td>\n",
       "      <td>David Waldstein</td>\n",
       "      <td>HOUSTON  —   Venezuela had a plan. It was a ta...</td>\n",
       "      <td>0</td>\n",
       "    </tr>\n",
       "    <tr>\n",
       "      <td>2</td>\n",
       "      <td>19113</td>\n",
       "      <td>Cotton to House: ’Do Not Walk the Plank and Vo...</td>\n",
       "      <td>Pam Key</td>\n",
       "      <td>Sunday on ABC’s “This Week,” while discussing ...</td>\n",
       "      <td>0</td>\n",
       "    </tr>\n",
       "    <tr>\n",
       "      <td>3</td>\n",
       "      <td>6868</td>\n",
       "      <td>Paul LePage, Besieged Maine Governor, Sends Co...</td>\n",
       "      <td>Jess Bidgood</td>\n",
       "      <td>AUGUSTA, Me.  —   The beleaguered Republican g...</td>\n",
       "      <td>0</td>\n",
       "    </tr>\n",
       "    <tr>\n",
       "      <td>4</td>\n",
       "      <td>7596</td>\n",
       "      <td>A Digital 9/11 If Trump Wins</td>\n",
       "      <td>Finian Cunningham</td>\n",
       "      <td>Finian Cunningham has written extensively on...</td>\n",
       "      <td>1</td>\n",
       "    </tr>\n",
       "  </tbody>\n",
       "</table>\n",
       "</div>"
      ],
      "text/plain": [
       "      id                                           headline  \\\n",
       "0   9653  Ethics Questions Dogged Agriculture Nominee as...   \n",
       "1  10041  U.S. Must Dig Deep to Stop Argentina’s Lionel ...   \n",
       "2  19113  Cotton to House: ’Do Not Walk the Plank and Vo...   \n",
       "3   6868  Paul LePage, Besieged Maine Governor, Sends Co...   \n",
       "4   7596                       A Digital 9/11 If Trump Wins   \n",
       "\n",
       "                   written_by  \\\n",
       "0  Eric Lipton and Steve Eder   \n",
       "1             David Waldstein   \n",
       "2                     Pam Key   \n",
       "3                Jess Bidgood   \n",
       "4           Finian Cunningham   \n",
       "\n",
       "                                                news  label  \n",
       "0  WASHINGTON  —   In Sonny Perdue’s telling, Geo...      0  \n",
       "1  HOUSTON  —   Venezuela had a plan. It was a ta...      0  \n",
       "2  Sunday on ABC’s “This Week,” while discussing ...      0  \n",
       "3  AUGUSTA, Me.  —   The beleaguered Republican g...      0  \n",
       "4    Finian Cunningham has written extensively on...      1  "
      ]
     },
     "execution_count": 6,
     "metadata": {},
     "output_type": "execute_result"
    }
   ],
   "source": [
    "data.head()"
   ]
  },
  {
   "cell_type": "code",
   "execution_count": 7,
   "metadata": {},
   "outputs": [
    {
     "data": {
      "text/plain": [
       "4202"
      ]
     },
     "execution_count": 7,
     "metadata": {},
     "output_type": "execute_result"
    }
   ],
   "source": [
    "len(data['written_by'].unique())"
   ]
  },
  {
   "cell_type": "markdown",
   "metadata": {},
   "source": [
    "There are 4202 writers in the dataset."
   ]
  },
  {
   "cell_type": "code",
   "execution_count": 8,
   "metadata": {},
   "outputs": [
    {
     "data": {
      "text/plain": [
       "1    10413\n",
       "0    10387\n",
       "Name: label, dtype: int64"
      ]
     },
     "execution_count": 8,
     "metadata": {},
     "output_type": "execute_result"
    }
   ],
   "source": [
    "data.label.value_counts()"
   ]
  },
  {
   "cell_type": "markdown",
   "metadata": {},
   "source": [
    "From above distribution , it is concluded that we have a balanced dataset"
   ]
  },
  {
   "cell_type": "code",
   "execution_count": 9,
   "metadata": {},
   "outputs": [
    {
     "name": "stdout",
     "output_type": "stream",
     "text": [
      "<class 'pandas.core.frame.DataFrame'>\n",
      "RangeIndex: 20800 entries, 0 to 20799\n",
      "Data columns (total 5 columns):\n",
      "id            20800 non-null int64\n",
      "headline      20242 non-null object\n",
      "written_by    18843 non-null object\n",
      "news          20761 non-null object\n",
      "label         20800 non-null int64\n",
      "dtypes: int64(2), object(3)\n",
      "memory usage: 812.6+ KB\n"
     ]
    }
   ],
   "source": [
    "data.info()"
   ]
  },
  {
   "cell_type": "markdown",
   "metadata": {},
   "source": [
    "There are 2 and 3 feature which belongs to int and categorical respectively"
   ]
  },
  {
   "cell_type": "code",
   "execution_count": 10,
   "metadata": {},
   "outputs": [
    {
     "data": {
      "text/html": [
       "<div>\n",
       "<style scoped>\n",
       "    .dataframe tbody tr th:only-of-type {\n",
       "        vertical-align: middle;\n",
       "    }\n",
       "\n",
       "    .dataframe tbody tr th {\n",
       "        vertical-align: top;\n",
       "    }\n",
       "\n",
       "    .dataframe thead th {\n",
       "        text-align: right;\n",
       "    }\n",
       "</style>\n",
       "<table border=\"1\" class=\"dataframe\">\n",
       "  <thead>\n",
       "    <tr style=\"text-align: right;\">\n",
       "      <th></th>\n",
       "      <th>id</th>\n",
       "      <th>label</th>\n",
       "    </tr>\n",
       "  </thead>\n",
       "  <tbody>\n",
       "    <tr>\n",
       "      <td>count</td>\n",
       "      <td>20800.000000</td>\n",
       "      <td>20800.000000</td>\n",
       "    </tr>\n",
       "    <tr>\n",
       "      <td>mean</td>\n",
       "      <td>10399.500000</td>\n",
       "      <td>0.500625</td>\n",
       "    </tr>\n",
       "    <tr>\n",
       "      <td>std</td>\n",
       "      <td>6004.587135</td>\n",
       "      <td>0.500012</td>\n",
       "    </tr>\n",
       "    <tr>\n",
       "      <td>min</td>\n",
       "      <td>0.000000</td>\n",
       "      <td>0.000000</td>\n",
       "    </tr>\n",
       "    <tr>\n",
       "      <td>25%</td>\n",
       "      <td>5199.750000</td>\n",
       "      <td>0.000000</td>\n",
       "    </tr>\n",
       "    <tr>\n",
       "      <td>50%</td>\n",
       "      <td>10399.500000</td>\n",
       "      <td>1.000000</td>\n",
       "    </tr>\n",
       "    <tr>\n",
       "      <td>75%</td>\n",
       "      <td>15599.250000</td>\n",
       "      <td>1.000000</td>\n",
       "    </tr>\n",
       "    <tr>\n",
       "      <td>max</td>\n",
       "      <td>20799.000000</td>\n",
       "      <td>1.000000</td>\n",
       "    </tr>\n",
       "  </tbody>\n",
       "</table>\n",
       "</div>"
      ],
      "text/plain": [
       "                 id         label\n",
       "count  20800.000000  20800.000000\n",
       "mean   10399.500000      0.500625\n",
       "std     6004.587135      0.500012\n",
       "min        0.000000      0.000000\n",
       "25%     5199.750000      0.000000\n",
       "50%    10399.500000      1.000000\n",
       "75%    15599.250000      1.000000\n",
       "max    20799.000000      1.000000"
      ]
     },
     "execution_count": 10,
     "metadata": {},
     "output_type": "execute_result"
    }
   ],
   "source": [
    "data.describe()"
   ]
  },
  {
   "cell_type": "markdown",
   "metadata": {},
   "source": [
    "# Null/Missing Value Analysis"
   ]
  },
  {
   "cell_type": "code",
   "execution_count": 11,
   "metadata": {},
   "outputs": [
    {
     "data": {
      "text/plain": [
       "id               0\n",
       "headline       558\n",
       "written_by    1957\n",
       "news            39\n",
       "label            0\n",
       "dtype: int64"
      ]
     },
     "execution_count": 11,
     "metadata": {},
     "output_type": "execute_result"
    }
   ],
   "source": [
    "data.isnull().sum()"
   ]
  },
  {
   "cell_type": "markdown",
   "metadata": {},
   "source": [
    "There are 558, 1957,39 values are null/Missing from the feature headline,written_by,news respectively"
   ]
  },
  {
   "cell_type": "code",
   "execution_count": 12,
   "metadata": {},
   "outputs": [],
   "source": [
    "data['news'] = data['news'].replace(np.nan,'', regex=True)"
   ]
  },
  {
   "cell_type": "code",
   "execution_count": 13,
   "metadata": {},
   "outputs": [],
   "source": [
    "data['headline'] = data['headline'].replace(np.nan,'', regex=True)"
   ]
  },
  {
   "cell_type": "markdown",
   "metadata": {},
   "source": [
    "As we know Nan+ something will result in Nan , therefore Replacing Nan with space in  News , headlines feature so that we can be able to combine these two feature ."
   ]
  },
  {
   "cell_type": "markdown",
   "metadata": {},
   "source": [
    "# Joining the headlines and news feature  for easy analysis"
   ]
  },
  {
   "cell_type": "code",
   "execution_count": 14,
   "metadata": {},
   "outputs": [],
   "source": [
    "data['news']=data['headline'] + ' ' + data['news']"
   ]
  },
  {
   "cell_type": "code",
   "execution_count": 15,
   "metadata": {},
   "outputs": [
    {
     "data": {
      "text/plain": [
       "id               0\n",
       "headline         0\n",
       "written_by    1957\n",
       "news             0\n",
       "label            0\n",
       "dtype: int64"
      ]
     },
     "execution_count": 15,
     "metadata": {},
     "output_type": "execute_result"
    }
   ],
   "source": [
    "data.isnull().sum()"
   ]
  },
  {
   "cell_type": "markdown",
   "metadata": {},
   "source": [
    "Now our News features is like full article with headlines and news in it"
   ]
  },
  {
   "cell_type": "code",
   "execution_count": 16,
   "metadata": {},
   "outputs": [
    {
     "data": {
      "text/html": [
       "<div>\n",
       "<style scoped>\n",
       "    .dataframe tbody tr th:only-of-type {\n",
       "        vertical-align: middle;\n",
       "    }\n",
       "\n",
       "    .dataframe tbody tr th {\n",
       "        vertical-align: top;\n",
       "    }\n",
       "\n",
       "    .dataframe thead th {\n",
       "        text-align: right;\n",
       "    }\n",
       "</style>\n",
       "<table border=\"1\" class=\"dataframe\">\n",
       "  <thead>\n",
       "    <tr style=\"text-align: right;\">\n",
       "      <th></th>\n",
       "      <th>id</th>\n",
       "      <th>headline</th>\n",
       "      <th>written_by</th>\n",
       "      <th>news</th>\n",
       "      <th>label</th>\n",
       "      <th>length</th>\n",
       "    </tr>\n",
       "  </thead>\n",
       "  <tbody>\n",
       "    <tr>\n",
       "      <td>0</td>\n",
       "      <td>9653</td>\n",
       "      <td>Ethics Questions Dogged Agriculture Nominee as...</td>\n",
       "      <td>Eric Lipton and Steve Eder</td>\n",
       "      <td>Ethics Questions Dogged Agriculture Nominee as...</td>\n",
       "      <td>0</td>\n",
       "      <td>8021</td>\n",
       "    </tr>\n",
       "    <tr>\n",
       "      <td>1</td>\n",
       "      <td>10041</td>\n",
       "      <td>U.S. Must Dig Deep to Stop Argentina’s Lionel ...</td>\n",
       "      <td>David Waldstein</td>\n",
       "      <td>U.S. Must Dig Deep to Stop Argentina’s Lionel ...</td>\n",
       "      <td>0</td>\n",
       "      <td>6185</td>\n",
       "    </tr>\n",
       "    <tr>\n",
       "      <td>2</td>\n",
       "      <td>19113</td>\n",
       "      <td>Cotton to House: ’Do Not Walk the Plank and Vo...</td>\n",
       "      <td>Pam Key</td>\n",
       "      <td>Cotton to House: ’Do Not Walk the Plank and Vo...</td>\n",
       "      <td>0</td>\n",
       "      <td>526</td>\n",
       "    </tr>\n",
       "    <tr>\n",
       "      <td>3</td>\n",
       "      <td>6868</td>\n",
       "      <td>Paul LePage, Besieged Maine Governor, Sends Co...</td>\n",
       "      <td>Jess Bidgood</td>\n",
       "      <td>Paul LePage, Besieged Maine Governor, Sends Co...</td>\n",
       "      <td>0</td>\n",
       "      <td>6617</td>\n",
       "    </tr>\n",
       "    <tr>\n",
       "      <td>4</td>\n",
       "      <td>7596</td>\n",
       "      <td>A Digital 9/11 If Trump Wins</td>\n",
       "      <td>Finian Cunningham</td>\n",
       "      <td>A Digital 9/11 If Trump Wins   Finian Cunningh...</td>\n",
       "      <td>1</td>\n",
       "      <td>9193</td>\n",
       "    </tr>\n",
       "  </tbody>\n",
       "</table>\n",
       "</div>"
      ],
      "text/plain": [
       "      id                                           headline  \\\n",
       "0   9653  Ethics Questions Dogged Agriculture Nominee as...   \n",
       "1  10041  U.S. Must Dig Deep to Stop Argentina’s Lionel ...   \n",
       "2  19113  Cotton to House: ’Do Not Walk the Plank and Vo...   \n",
       "3   6868  Paul LePage, Besieged Maine Governor, Sends Co...   \n",
       "4   7596                       A Digital 9/11 If Trump Wins   \n",
       "\n",
       "                   written_by  \\\n",
       "0  Eric Lipton and Steve Eder   \n",
       "1             David Waldstein   \n",
       "2                     Pam Key   \n",
       "3                Jess Bidgood   \n",
       "4           Finian Cunningham   \n",
       "\n",
       "                                                news  label  length  \n",
       "0  Ethics Questions Dogged Agriculture Nominee as...      0    8021  \n",
       "1  U.S. Must Dig Deep to Stop Argentina’s Lionel ...      0    6185  \n",
       "2  Cotton to House: ’Do Not Walk the Plank and Vo...      0     526  \n",
       "3  Paul LePage, Besieged Maine Governor, Sends Co...      0    6617  \n",
       "4  A Digital 9/11 If Trump Wins   Finian Cunningh...      1    9193  "
      ]
     },
     "execution_count": 16,
     "metadata": {},
     "output_type": "execute_result"
    }
   ],
   "source": [
    "data['length'] = data['news'].apply(len)\n",
    "data.head()"
   ]
  },
  {
   "cell_type": "code",
   "execution_count": 17,
   "metadata": {},
   "outputs": [
    {
     "data": {
      "text/plain": [
       "array([<matplotlib.axes._subplots.AxesSubplot object at 0x0000023B36A2CCC0>,\n",
       "       <matplotlib.axes._subplots.AxesSubplot object at 0x0000023B37186C50>],\n",
       "      dtype=object)"
      ]
     },
     "execution_count": 17,
     "metadata": {},
     "output_type": "execute_result"
    },
    {
     "data": {
      "image/png": "[encoded data removed]",
      "text/plain": [
       "<Figure size 864x288 with 2 Axes>"
      ]
     },
     "metadata": {},
     "output_type": "display_data"
    }
   ],
   "source": [
    "data.hist(column='length', by='label', bins=50,figsize=(12,4))"
   ]
  },
  {
   "cell_type": "markdown",
   "metadata": {},
   "source": [
    "The count of  of fake news of length < 20k is more , which means the fake news article generally tries to be short ,as the frequency is very high at about 6000 for the fake news shown in above figure"
   ]
  },
  {
   "cell_type": "code",
   "execution_count": 18,
   "metadata": {},
   "outputs": [
    {
     "data": {
      "text/plain": [
       "<matplotlib.axes._subplots.AxesSubplot at 0x23b46c8ba90>"
      ]
     },
     "execution_count": 18,
     "metadata": {},
     "output_type": "execute_result"
    },
    {
     "data": {
      "image/png": "[encoded data removed]",
      "text/plain": [
       "<Figure size 432x288 with 1 Axes>"
      ]
     },
     "metadata": {},
     "output_type": "display_data"
    }
   ],
   "source": [
    "import seaborn as sns\n",
    "sns.countplot(x=\"label\", data=data)"
   ]
  },
  {
   "cell_type": "markdown",
   "metadata": {},
   "source": [
    "The count plot shows that our dataset is balanced."
   ]
  },
  {
   "cell_type": "markdown",
   "metadata": {},
   "source": [
    "# Preprocessing News\n",
    "\n",
    "In the Preprocessing phase we do the following in the order below:-\n",
    "\n",
    "a) Begin by removing the html tags\n",
    "\n",
    "b) Remove any punctuations or limited set of special characters like , or . or # etc.\n",
    "\n",
    "c) Check if the word is made up of english letters and is not alpha-numeric\n",
    "\n",
    "d) Check to see if the length of the word is greater than 2 (as it was researched that there is no adjective in 2-letters)\n",
    "\n",
    "e) Convert the word to lowercase\n",
    "\n",
    "f) Remove Stopwords"
   ]
  },
  {
   "cell_type": "code",
   "execution_count": 19,
   "metadata": {},
   "outputs": [
    {
     "name": "stdout",
     "output_type": "stream",
     "text": [
      "Ethics Questions Dogged Agriculture Nominee as Georgia Governor - The New York Times WASHINGTON  —   In Sonny Perdue’s telling, Georgians were growing weary of the corruption and scandals in their state when he took over as governor in 2003  —   a time when he gave his own version of a “drain the swamp” pledge. “My first goal as governor is to restore public trust in state government by changing the culture of state government,” Mr. Perdue told a leadership conference at Kennesaw State University in April 2003. “Our form of government depends on a mutual bond of trust between the people and their government. But people have become cynical about their government. ” But Mr. Perdue, a Republican who is awaiting confirmation to serve as President Trump’s agriculture secretary, became a target of frequent criticism that he was failing to honor his own ethics pledge during his eight years as governor. The criticism centers on the fact that, as Mr. Trump has, he continued to own or help run his family business ventures  —   four   companies  —   while serving as governor. Mr. Perdue is one of the last cabinet members awaiting Senate confirmation. No date has been set for his confirmation hearing a holdup in the release of paperwork accompanying his nomination by the federal Office of Government Ethics has been blamed for the delay. The office must examine Mr. Perdue’s proposal to avoid conflicts of interest while running the U. S. D. A. as the department is known, which may include selling off some of his farming assets. Before his tenure as governor ended in 2011, 13 complaints had been filed against Mr. Perdue with the State Ethics Commission, which on two occasions ruled that the governor had violated state ethics laws. The commission took the unusual step of fining Mr. Perdue while he was governor. There were numerous other questions, including some about the role of Mr. Perdue’s personal lawyer  —   also a state legislator  —   in pushing a bill through the legislature that included a special provision that gave Mr. Perdue $100, 000 in state tax relief. And, when his tenure as governor was coming to a close, Mr. Perdue met with Georgia officials who oversee the state’s ports to discuss use of a terminal for a family business, according to documents obtained by The Atlanta  . Soon after he left office, in fact, he opened a new company that specialized in exporting products through Savannah. “When you are a public official you are supposed to be acting entirely on behalf of the public and not for ” said Yasha Heidari, former senior legal counsel to the State Ethics Commission. “Looking at his record, as both an attorney and a citizen of the state, I had serious concerns. ” In a written statement, a spokeswoman for Mr. Perdue rejected that assessment, saying that the frequent criticism he faced while governor was largely politically motivated. “There hadn’t been a Republican governor in Georgia for 135 years,” the statement said. “Governor Perdue was the David who slew the Democrats’ Goliath. ” During the wait for Mr. Perdue’s confirmation hearing, some in the farming industry have come to his defense. “I don’t think you are going to find a man any more honorable than Sonny Perdue,” said Zippy Duvall, a Georgia cattle and poultry farmer who is the president of the American Farm Bureau Federation, adding that he had known Mr. Perdue for about a decade. “He is as ethical as they come. ” Born into a family of farmers, Mr. Perdue played college football as a   at the University of Georgia, and later worked briefly as a practicing veterinarian. He rose through the ranks of the state legislature and, in the late 1990s, switched his party affiliation from Democrat to Republican because, he said, the state party had lost its focus on family values. One of Mr. Perdue’s first acts after he was sworn in as governor in January 2003 was to sign an executive order establishing a new code of ethics for executive branch employees. The order, which applied to the governor himself, prohibited state employees from using their powers for “any financial or other personal benefit” and barred them from taking any gifts worth more than $25. “In carrying out their official duties and obligations, all officers and employees of state government must work solely for the public good, striving vigilantly to avoid even the appearance that their actions are motivated by private or personal interest,” the 2003 executive order said. But Mr. Perdue ended up collecting at least $25, 000 worth of benefits or gifts during his years as governor, state records show. The gifts ranged from tickets to a Nascar race and football games to flights paid for by Altria, the tobacco company, and by CSX, the railroad giant, according to a 2010 report by Citizens for Responsibility and Ethics in Washington, a liberal nonprofit group. Mr. Perdue’s spokeswoman, in the written statement, said that none of these gifts violated the ban because the “trips were for official state business and were perfectly acceptable as saving taxpayer funds. ” “The gifts were to the state,” the statement read, “not to the governor. ” The fine by the State Ethics Commission in 2005 came after the commission concluded that Mr. Perdue had failed to properly report the use of an airplane owned by one of his family’s businesses for a   trip. The commission also found that he had taken campaign contributions in amounts that exceeded state limits from several donors  —   including a political action committee run by SunTrust, the   bank. Mr. Perdue called the violations technical, and the investigation politically motivated. Teddy Lee, the executive secretary of the State Ethics Commission, was fired from his job in January 2006, and in an interview he blamed Mr. Perdue for his firing. Mr. Lee had served in the job under four governors. “This looked like a political hit to me,” Mr. Lee said. Mr. Lee’s dismissal came as Mr. Perdue was seeking   and just months before his largest scandal emerged, over a $100, 000 state tax break he received thanks to a legislative maneuver engineered by a lawmaker who was also his personal lawyer. The focus of the controversy was a piece of property in Florida that Mr. Perdue purchased in 2004. The purchase allowed him to defer paying federal capital gains taxes on a separate piece of Georgia land  —   which he had previously sold at a profit. When that transaction was completed, Mr. Perdue still owed Georgia about $100, 000 in state taxes. Then, Mr. Perdue signed a bill the following year eliminating that state tax obligation  —   as state law was changed to allow   rollover relief on capital gains, even if the new property being purchased was out of state. During deliberations on the legislation, Larry O’Neal, a member of the Georgia House of Representatives who also worked part time as a personal lawyer for Mr. Perdue, intervened to make the change in that provision retroactive. That meant it would cover Mr. Perdue’s 2004 land deal, saving the governor $100, 000, The   reported at the time. Mr. Perdue’s spokeswoman said the change in state law was not intended to benefit Mr. Perdue. “It benefited all Georgians,” the statement said. Scott Faber of the Environmental Working Group, a nonprofit organization that keeps a close watch on policies at the Agriculture Department, said he had questions about Mr. Perdue’s fitness to take over the department. “Given his record of   and conflicts of interest as governor of Georgia, it is fair to ask if he is fit to run a $    federal agency,” Mr. Faber said. But Mr. Duvall, of the American Farm Bureau Federation, believes the opposite. Mr. Duvall said that as a former farmer, Mr. Perdue is just what the nation needs to run the department. “He has worked on a farm and owned businesses that buy and sell grain domestically and internationally,” Mr. Duvall said. “It ought to be a requirement that someone who runs the U. S. D. A. knows something about farming. And Sonny certainly does. ”\n",
      "==================================================\n"
     ]
    }
   ],
   "source": [
    "# printing some Messages\n",
    "messg = data['news'].values[0]\n",
    "print(messg)\n",
    "print('='*50)"
   ]
  },
  {
   "cell_type": "code",
   "execution_count": 20,
   "metadata": {},
   "outputs": [
    {
     "name": "stdout",
     "output_type": "stream",
     "text": [
      "Ethics Questions Dogged Agriculture Nominee as Georgia Governor - The New York Times WASHINGTON  —   In Sonny Perdue’s telling, Georgians were growing weary of the corruption and scandals in their state when he took over as governor in 2003  —   a time when he gave his own version of a “drain the swamp” pledge. “My first goal as governor is to restore public trust in state government by changing the culture of state government,” Mr. Perdue told a leadership conference at Kennesaw State University in April 2003. “Our form of government depends on a mutual bond of trust between the people and their government. But people have become cynical about their government. ” But Mr. Perdue, a Republican who is awaiting confirmation to serve as President Trump’s agriculture secretary, became a target of frequent criticism that he was failing to honor his own ethics pledge during his eight years as governor. The criticism centers on the fact that, as Mr. Trump has, he continued to own or help run his family business ventures  —   four   companies  —   while serving as governor. Mr. Perdue is one of the last cabinet members awaiting Senate confirmation. No date has been set for his confirmation hearing a holdup in the release of paperwork accompanying his nomination by the federal Office of Government Ethics has been blamed for the delay. The office must examine Mr. Perdue’s proposal to avoid conflicts of interest while running the U. S. D. A. as the department is known, which may include selling off some of his farming assets. Before his tenure as governor ended in 2011, 13 complaints had been filed against Mr. Perdue with the State Ethics Commission, which on two occasions ruled that the governor had violated state ethics laws. The commission took the unusual step of fining Mr. Perdue while he was governor. There were numerous other questions, including some about the role of Mr. Perdue’s personal lawyer  —   also a state legislator  —   in pushing a bill through the legislature that included a special provision that gave Mr. Perdue $100, 000 in state tax relief. And, when his tenure as governor was coming to a close, Mr. Perdue met with Georgia officials who oversee the state’s ports to discuss use of a terminal for a family business, according to documents obtained by The Atlanta  . Soon after he left office, in fact, he opened a new company that specialized in exporting products through Savannah. “When you are a public official you are supposed to be acting entirely on behalf of the public and not for ” said Yasha Heidari, former senior legal counsel to the State Ethics Commission. “Looking at his record, as both an attorney and a citizen of the state, I had serious concerns. ” In a written statement, a spokeswoman for Mr. Perdue rejected that assessment, saying that the frequent criticism he faced while governor was largely politically motivated. “There hadn’t been a Republican governor in Georgia for 135 years,” the statement said. “Governor Perdue was the David who slew the Democrats’ Goliath. ” During the wait for Mr. Perdue’s confirmation hearing, some in the farming industry have come to his defense. “I don’t think you are going to find a man any more honorable than Sonny Perdue,” said Zippy Duvall, a Georgia cattle and poultry farmer who is the president of the American Farm Bureau Federation, adding that he had known Mr. Perdue for about a decade. “He is as ethical as they come. ” Born into a family of farmers, Mr. Perdue played college football as a   at the University of Georgia, and later worked briefly as a practicing veterinarian. He rose through the ranks of the state legislature and, in the late 1990s, switched his party affiliation from Democrat to Republican because, he said, the state party had lost its focus on family values. One of Mr. Perdue’s first acts after he was sworn in as governor in January 2003 was to sign an executive order establishing a new code of ethics for executive branch employees. The order, which applied to the governor himself, prohibited state employees from using their powers for “any financial or other personal benefit” and barred them from taking any gifts worth more than $25. “In carrying out their official duties and obligations, all officers and employees of state government must work solely for the public good, striving vigilantly to avoid even the appearance that their actions are motivated by private or personal interest,” the 2003 executive order said. But Mr. Perdue ended up collecting at least $25, 000 worth of benefits or gifts during his years as governor, state records show. The gifts ranged from tickets to a Nascar race and football games to flights paid for by Altria, the tobacco company, and by CSX, the railroad giant, according to a 2010 report by Citizens for Responsibility and Ethics in Washington, a liberal nonprofit group. Mr. Perdue’s spokeswoman, in the written statement, said that none of these gifts violated the ban because the “trips were for official state business and were perfectly acceptable as saving taxpayer funds. ” “The gifts were to the state,” the statement read, “not to the governor. ” The fine by the State Ethics Commission in 2005 came after the commission concluded that Mr. Perdue had failed to properly report the use of an airplane owned by one of his family’s businesses for a   trip. The commission also found that he had taken campaign contributions in amounts that exceeded state limits from several donors  —   including a political action committee run by SunTrust, the   bank. Mr. Perdue called the violations technical, and the investigation politically motivated. Teddy Lee, the executive secretary of the State Ethics Commission, was fired from his job in January 2006, and in an interview he blamed Mr. Perdue for his firing. Mr. Lee had served in the job under four governors. “This looked like a political hit to me,” Mr. Lee said. Mr. Lee’s dismissal came as Mr. Perdue was seeking   and just months before his largest scandal emerged, over a $100, 000 state tax break he received thanks to a legislative maneuver engineered by a lawmaker who was also his personal lawyer. The focus of the controversy was a piece of property in Florida that Mr. Perdue purchased in 2004. The purchase allowed him to defer paying federal capital gains taxes on a separate piece of Georgia land  —   which he had previously sold at a profit. When that transaction was completed, Mr. Perdue still owed Georgia about $100, 000 in state taxes. Then, Mr. Perdue signed a bill the following year eliminating that state tax obligation  —   as state law was changed to allow   rollover relief on capital gains, even if the new property being purchased was out of state. During deliberations on the legislation, Larry O’Neal, a member of the Georgia House of Representatives who also worked part time as a personal lawyer for Mr. Perdue, intervened to make the change in that provision retroactive. That meant it would cover Mr. Perdue’s 2004 land deal, saving the governor $100, 000, The   reported at the time. Mr. Perdue’s spokeswoman said the change in state law was not intended to benefit Mr. Perdue. “It benefited all Georgians,” the statement said. Scott Faber of the Environmental Working Group, a nonprofit organization that keeps a close watch on policies at the Agriculture Department, said he had questions about Mr. Perdue’s fitness to take over the department. “Given his record of   and conflicts of interest as governor of Georgia, it is fair to ask if he is fit to run a $    federal agency,” Mr. Faber said. But Mr. Duvall, of the American Farm Bureau Federation, believes the opposite. Mr. Duvall said that as a former farmer, Mr. Perdue is just what the nation needs to run the department. “He has worked on a farm and owned businesses that buy and sell grain domestically and internationally,” Mr. Duvall said. “It ought to be a requirement that someone who runs the U. S. D. A. knows something about farming. And Sonny certainly does. ”\n",
      "==================================================\n"
     ]
    }
   ],
   "source": [
    "from bs4 import BeautifulSoup\n",
    "soup = BeautifulSoup(messg, 'lxml')\n",
    "text = soup.get_text()\n",
    "print(text)\n",
    "print(\"=\"*50)"
   ]
  },
  {
   "cell_type": "code",
   "execution_count": 21,
   "metadata": {},
   "outputs": [],
   "source": [
    "import re\n",
    "\n",
    "def decontracted(phrase):\n",
    "    # specific\n",
    "    phrase = re.sub(r\"won't\", \"will not\", phrase)\n",
    "    phrase = re.sub(r\"can\\'t\", \"can not\", phrase)\n",
    "\n",
    "    # general\n",
    "    phrase = re.sub(r\"n\\'t\", \" not\", phrase)\n",
    "    phrase = re.sub(r\"\\'re\", \" are\", phrase)\n",
    "    phrase = re.sub(r\"\\'s\", \" is\", phrase)\n",
    "    phrase = re.sub(r\"\\'d\", \" would\", phrase)\n",
    "    phrase = re.sub(r\"\\'ll\", \" will\", phrase)\n",
    "    phrase = re.sub(r\"\\'t\", \" not\", phrase)\n",
    "    phrase = re.sub(r\"\\'ve\", \" have\", phrase)\n",
    "    phrase = re.sub(r\"\\'m\", \" am\", phrase)\n",
    "    return phrase"
   ]
  },
  {
   "cell_type": "code",
   "execution_count": 22,
   "metadata": {},
   "outputs": [
    {
     "name": "stdout",
     "output_type": "stream",
     "text": [
      "Ethics Questions Dogged Agriculture Nominee as Georgia Governor - The New York Times WASHINGTON  —   In Sonny Perdue’s telling, Georgians were growing weary of the corruption and scandals in their state when he took over as governor in 2003  —   a time when he gave his own version of a “drain the swamp” pledge. “My first goal as governor is to restore public trust in state government by changing the culture of state government,” Mr. Perdue told a leadership conference at Kennesaw State University in April 2003. “Our form of government depends on a mutual bond of trust between the people and their government. But people have become cynical about their government. ” But Mr. Perdue, a Republican who is awaiting confirmation to serve as President Trump’s agriculture secretary, became a target of frequent criticism that he was failing to honor his own ethics pledge during his eight years as governor. The criticism centers on the fact that, as Mr. Trump has, he continued to own or help run his family business ventures  —   four   companies  —   while serving as governor. Mr. Perdue is one of the last cabinet members awaiting Senate confirmation. No date has been set for his confirmation hearing a holdup in the release of paperwork accompanying his nomination by the federal Office of Government Ethics has been blamed for the delay. The office must examine Mr. Perdue’s proposal to avoid conflicts of interest while running the U. S. D. A. as the department is known, which may include selling off some of his farming assets. Before his tenure as governor ended in 2011, 13 complaints had been filed against Mr. Perdue with the State Ethics Commission, which on two occasions ruled that the governor had violated state ethics laws. The commission took the unusual step of fining Mr. Perdue while he was governor. There were numerous other questions, including some about the role of Mr. Perdue’s personal lawyer  —   also a state legislator  —   in pushing a bill through the legislature that included a special provision that gave Mr. Perdue $100, 000 in state tax relief. And, when his tenure as governor was coming to a close, Mr. Perdue met with Georgia officials who oversee the state’s ports to discuss use of a terminal for a family business, according to documents obtained by The Atlanta  . Soon after he left office, in fact, he opened a new company that specialized in exporting products through Savannah. “When you are a public official you are supposed to be acting entirely on behalf of the public and not for ” said Yasha Heidari, former senior legal counsel to the State Ethics Commission. “Looking at his record, as both an attorney and a citizen of the state, I had serious concerns. ” In a written statement, a spokeswoman for Mr. Perdue rejected that assessment, saying that the frequent criticism he faced while governor was largely politically motivated. “There hadn’t been a Republican governor in Georgia for 135 years,” the statement said. “Governor Perdue was the David who slew the Democrats’ Goliath. ” During the wait for Mr. Perdue’s confirmation hearing, some in the farming industry have come to his defense. “I don’t think you are going to find a man any more honorable than Sonny Perdue,” said Zippy Duvall, a Georgia cattle and poultry farmer who is the president of the American Farm Bureau Federation, adding that he had known Mr. Perdue for about a decade. “He is as ethical as they come. ” Born into a family of farmers, Mr. Perdue played college football as a   at the University of Georgia, and later worked briefly as a practicing veterinarian. He rose through the ranks of the state legislature and, in the late 1990s, switched his party affiliation from Democrat to Republican because, he said, the state party had lost its focus on family values. One of Mr. Perdue’s first acts after he was sworn in as governor in January 2003 was to sign an executive order establishing a new code of ethics for executive branch employees. The order, which applied to the governor himself, prohibited state employees from using their powers for “any financial or other personal benefit” and barred them from taking any gifts worth more than $25. “In carrying out their official duties and obligations, all officers and employees of state government must work solely for the public good, striving vigilantly to avoid even the appearance that their actions are motivated by private or personal interest,” the 2003 executive order said. But Mr. Perdue ended up collecting at least $25, 000 worth of benefits or gifts during his years as governor, state records show. The gifts ranged from tickets to a Nascar race and football games to flights paid for by Altria, the tobacco company, and by CSX, the railroad giant, according to a 2010 report by Citizens for Responsibility and Ethics in Washington, a liberal nonprofit group. Mr. Perdue’s spokeswoman, in the written statement, said that none of these gifts violated the ban because the “trips were for official state business and were perfectly acceptable as saving taxpayer funds. ” “The gifts were to the state,” the statement read, “not to the governor. ” The fine by the State Ethics Commission in 2005 came after the commission concluded that Mr. Perdue had failed to properly report the use of an airplane owned by one of his family’s businesses for a   trip. The commission also found that he had taken campaign contributions in amounts that exceeded state limits from several donors  —   including a political action committee run by SunTrust, the   bank. Mr. Perdue called the violations technical, and the investigation politically motivated. Teddy Lee, the executive secretary of the State Ethics Commission, was fired from his job in January 2006, and in an interview he blamed Mr. Perdue for his firing. Mr. Lee had served in the job under four governors. “This looked like a political hit to me,” Mr. Lee said. Mr. Lee’s dismissal came as Mr. Perdue was seeking   and just months before his largest scandal emerged, over a $100, 000 state tax break he received thanks to a legislative maneuver engineered by a lawmaker who was also his personal lawyer. The focus of the controversy was a piece of property in Florida that Mr. Perdue purchased in 2004. The purchase allowed him to defer paying federal capital gains taxes on a separate piece of Georgia land  —   which he had previously sold at a profit. When that transaction was completed, Mr. Perdue still owed Georgia about $100, 000 in state taxes. Then, Mr. Perdue signed a bill the following year eliminating that state tax obligation  —   as state law was changed to allow   rollover relief on capital gains, even if the new property being purchased was out of state. During deliberations on the legislation, Larry O’Neal, a member of the Georgia House of Representatives who also worked part time as a personal lawyer for Mr. Perdue, intervened to make the change in that provision retroactive. That meant it would cover Mr. Perdue’s 2004 land deal, saving the governor $100, 000, The   reported at the time. Mr. Perdue’s spokeswoman said the change in state law was not intended to benefit Mr. Perdue. “It benefited all Georgians,” the statement said. Scott Faber of the Environmental Working Group, a nonprofit organization that keeps a close watch on policies at the Agriculture Department, said he had questions about Mr. Perdue’s fitness to take over the department. “Given his record of   and conflicts of interest as governor of Georgia, it is fair to ask if he is fit to run a $    federal agency,” Mr. Faber said. But Mr. Duvall, of the American Farm Bureau Federation, believes the opposite. Mr. Duvall said that as a former farmer, Mr. Perdue is just what the nation needs to run the department. “He has worked on a farm and owned businesses that buy and sell grain domestically and internationally,” Mr. Duvall said. “It ought to be a requirement that someone who runs the U. S. D. A. knows something about farming. And Sonny certainly does. ”\n",
      "==================================================\n"
     ]
    }
   ],
   "source": [
    "messg_0 = decontracted(messg)\n",
    "print(messg_0)\n",
    "print(\"=\"*50)"
   ]
  },
  {
   "cell_type": "code",
   "execution_count": 23,
   "metadata": {},
   "outputs": [
    {
     "name": "stdout",
     "output_type": "stream",
     "text": [
      "Ethics Questions Dogged Agriculture Nominee as Georgia Governor - The New York Times WASHINGTON  —   In Sonny Perdue’s telling, Georgians were growing weary of the corruption and scandals in their state when he took over as governor in   —   a time when he gave his own version of a “drain the swamp” pledge. “My first goal as governor is to restore public trust in state government by changing the culture of state government,” Mr. Perdue told a leadership conference at Kennesaw State University in April  “Our form of government depends on a mutual bond of trust between the people and their government. But people have become cynical about their government. ” But Mr. Perdue, a Republican who is awaiting confirmation to serve as President Trump’s agriculture secretary, became a target of frequent criticism that he was failing to honor his own ethics pledge during his eight years as governor. The criticism centers on the fact that, as Mr. Trump has, he continued to own or help run his family business ventures  —   four   companies  —   while serving as governor. Mr. Perdue is one of the last cabinet members awaiting Senate confirmation. No date has been set for his confirmation hearing a holdup in the release of paperwork accompanying his nomination by the federal Office of Government Ethics has been blamed for the delay. The office must examine Mr. Perdue’s proposal to avoid conflicts of interest while running the U. S. D. A. as the department is known, which may include selling off some of his farming assets. Before his tenure as governor ended in   complaints had been filed against Mr. Perdue with the State Ethics Commission, which on two occasions ruled that the governor had violated state ethics laws. The commission took the unusual step of fining Mr. Perdue while he was governor. There were numerous other questions, including some about the role of Mr. Perdue’s personal lawyer  —   also a state legislator  —   in pushing a bill through the legislature that included a special provision that gave Mr. Perdue   in state tax relief. And, when his tenure as governor was coming to a close, Mr. Perdue met with Georgia officials who oversee the state’s ports to discuss use of a terminal for a family business, according to documents obtained by The Atlanta  . Soon after he left office, in fact, he opened a new company that specialized in exporting products through Savannah. “When you are a public official you are supposed to be acting entirely on behalf of the public and not for ” said Yasha Heidari, former senior legal counsel to the State Ethics Commission. “Looking at his record, as both an attorney and a citizen of the state, I had serious concerns. ” In a written statement, a spokeswoman for Mr. Perdue rejected that assessment, saying that the frequent criticism he faced while governor was largely politically motivated. “There hadn’t been a Republican governor in Georgia for  years,” the statement said. “Governor Perdue was the David who slew the Democrats’ Goliath. ” During the wait for Mr. Perdue’s confirmation hearing, some in the farming industry have come to his defense. “I don’t think you are going to find a man any more honorable than Sonny Perdue,” said Zippy Duvall, a Georgia cattle and poultry farmer who is the president of the American Farm Bureau Federation, adding that he had known Mr. Perdue for about a decade. “He is as ethical as they come. ” Born into a family of farmers, Mr. Perdue played college football as a   at the University of Georgia, and later worked briefly as a practicing veterinarian. He rose through the ranks of the state legislature and, in the late  switched his party affiliation from Democrat to Republican because, he said, the state party had lost its focus on family values. One of Mr. Perdue’s first acts after he was sworn in as governor in January  was to sign an executive order establishing a new code of ethics for executive branch employees. The order, which applied to the governor himself, prohibited state employees from using their powers for “any financial or other personal benefit” and barred them from taking any gifts worth more than  “In carrying out their official duties and obligations, all officers and employees of state government must work solely for the public good, striving vigilantly to avoid even the appearance that their actions are motivated by private or personal interest,” the  executive order said. But Mr. Perdue ended up collecting at least   worth of benefits or gifts during his years as governor, state records show. The gifts ranged from tickets to a Nascar race and football games to flights paid for by Altria, the tobacco company, and by CSX, the railroad giant, according to a  report by Citizens for Responsibility and Ethics in Washington, a liberal nonprofit group. Mr. Perdue’s spokeswoman, in the written statement, said that none of these gifts violated the ban because the “trips were for official state business and were perfectly acceptable as saving taxpayer funds. ” “The gifts were to the state,” the statement read, “not to the governor. ” The fine by the State Ethics Commission in  came after the commission concluded that Mr. Perdue had failed to properly report the use of an airplane owned by one of his family’s businesses for a   trip. The commission also found that he had taken campaign contributions in amounts that exceeded state limits from several donors  —   including a political action committee run by SunTrust, the   bank. Mr. Perdue called the violations technical, and the investigation politically motivated. Teddy Lee, the executive secretary of the State Ethics Commission, was fired from his job in January  and in an interview he blamed Mr. Perdue for his firing. Mr. Lee had served in the job under four governors. “This looked like a political hit to me,” Mr. Lee said. Mr. Lee’s dismissal came as Mr. Perdue was seeking   and just months before his largest scandal emerged, over a   state tax break he received thanks to a legislative maneuver engineered by a lawmaker who was also his personal lawyer. The focus of the controversy was a piece of property in Florida that Mr. Perdue purchased in  The purchase allowed him to defer paying federal capital gains taxes on a separate piece of Georgia land  —   which he had previously sold at a profit. When that transaction was completed, Mr. Perdue still owed Georgia about   in state taxes. Then, Mr. Perdue signed a bill the following year eliminating that state tax obligation  —   as state law was changed to allow   rollover relief on capital gains, even if the new property being purchased was out of state. During deliberations on the legislation, Larry O’Neal, a member of the Georgia House of Representatives who also worked part time as a personal lawyer for Mr. Perdue, intervened to make the change in that provision retroactive. That meant it would cover Mr. Perdue’s  land deal, saving the governor   The   reported at the time. Mr. Perdue’s spokeswoman said the change in state law was not intended to benefit Mr. Perdue. “It benefited all Georgians,” the statement said. Scott Faber of the Environmental Working Group, a nonprofit organization that keeps a close watch on policies at the Agriculture Department, said he had questions about Mr. Perdue’s fitness to take over the department. “Given his record of   and conflicts of interest as governor of Georgia, it is fair to ask if he is fit to run a $    federal agency,” Mr. Faber said. But Mr. Duvall, of the American Farm Bureau Federation, believes the opposite. Mr. Duvall said that as a former farmer, Mr. Perdue is just what the nation needs to run the department. “He has worked on a farm and owned businesses that buy and sell grain domestically and internationally,” Mr. Duvall said. “It ought to be a requirement that someone who runs the U. S. D. A. knows something about farming. And Sonny certainly does. ”\n"
     ]
    }
   ],
   "source": [
    "#remove words with numbers \n",
    "messg_0 = re.sub(\"\\S*\\d\\S*\", \"\", messg_0).strip()\n",
    "print(messg_0)"
   ]
  },
  {
   "cell_type": "code",
   "execution_count": 24,
   "metadata": {},
   "outputs": [
    {
     "name": "stdout",
     "output_type": "stream",
     "text": [
      "Ethics Questions Dogged Agriculture Nominee as Georgia Governor The New York Times WASHINGTON In Sonny Perdue s telling Georgians were growing weary of the corruption and scandals in their state when he took over as governor in a time when he gave his own version of a drain the swamp pledge My first goal as governor is to restore public trust in state government by changing the culture of state government Mr Perdue told a leadership conference at Kennesaw State University in April Our form of government depends on a mutual bond of trust between the people and their government But people have become cynical about their government But Mr Perdue a Republican who is awaiting confirmation to serve as President Trump s agriculture secretary became a target of frequent criticism that he was failing to honor his own ethics pledge during his eight years as governor The criticism centers on the fact that as Mr Trump has he continued to own or help run his family business ventures four companies while serving as governor Mr Perdue is one of the last cabinet members awaiting Senate confirmation No date has been set for his confirmation hearing a holdup in the release of paperwork accompanying his nomination by the federal Office of Government Ethics has been blamed for the delay The office must examine Mr Perdue s proposal to avoid conflicts of interest while running the U S D A as the department is known which may include selling off some of his farming assets Before his tenure as governor ended in complaints had been filed against Mr Perdue with the State Ethics Commission which on two occasions ruled that the governor had violated state ethics laws The commission took the unusual step of fining Mr Perdue while he was governor There were numerous other questions including some about the role of Mr Perdue s personal lawyer also a state legislator in pushing a bill through the legislature that included a special provision that gave Mr Perdue in state tax relief And when his tenure as governor was coming to a close Mr Perdue met with Georgia officials who oversee the state s ports to discuss use of a terminal for a family business according to documents obtained by The Atlanta Soon after he left office in fact he opened a new company that specialized in exporting products through Savannah When you are a public official you are supposed to be acting entirely on behalf of the public and not for said Yasha Heidari former senior legal counsel to the State Ethics Commission Looking at his record as both an attorney and a citizen of the state I had serious concerns In a written statement a spokeswoman for Mr Perdue rejected that assessment saying that the frequent criticism he faced while governor was largely politically motivated There hadn t been a Republican governor in Georgia for years the statement said Governor Perdue was the David who slew the Democrats Goliath During the wait for Mr Perdue s confirmation hearing some in the farming industry have come to his defense I don t think you are going to find a man any more honorable than Sonny Perdue said Zippy Duvall a Georgia cattle and poultry farmer who is the president of the American Farm Bureau Federation adding that he had known Mr Perdue for about a decade He is as ethical as they come Born into a family of farmers Mr Perdue played college football as a at the University of Georgia and later worked briefly as a practicing veterinarian He rose through the ranks of the state legislature and in the late switched his party affiliation from Democrat to Republican because he said the state party had lost its focus on family values One of Mr Perdue s first acts after he was sworn in as governor in January was to sign an executive order establishing a new code of ethics for executive branch employees The order which applied to the governor himself prohibited state employees from using their powers for any financial or other personal benefit and barred them from taking any gifts worth more than In carrying out their official duties and obligations all officers and employees of state government must work solely for the public good striving vigilantly to avoid even the appearance that their actions are motivated by private or personal interest the executive order said But Mr Perdue ended up collecting at least worth of benefits or gifts during his years as governor state records show The gifts ranged from tickets to a Nascar race and football games to flights paid for by Altria the tobacco company and by CSX the railroad giant according to a report by Citizens for Responsibility and Ethics in Washington a liberal nonprofit group Mr Perdue s spokeswoman in the written statement said that none of these gifts violated the ban because the trips were for official state business and were perfectly acceptable as saving taxpayer funds The gifts were to the state the statement read not to the governor The fine by the State Ethics Commission in came after the commission concluded that Mr Perdue had failed to properly report the use of an airplane owned by one of his family s businesses for a trip The commission also found that he had taken campaign contributions in amounts that exceeded state limits from several donors including a political action committee run by SunTrust the bank Mr Perdue called the violations technical and the investigation politically motivated Teddy Lee the executive secretary of the State Ethics Commission was fired from his job in January and in an interview he blamed Mr Perdue for his firing Mr Lee had served in the job under four governors This looked like a political hit to me Mr Lee said Mr Lee s dismissal came as Mr Perdue was seeking and just months before his largest scandal emerged over a state tax break he received thanks to a legislative maneuver engineered by a lawmaker who was also his personal lawyer The focus of the controversy was a piece of property in Florida that Mr Perdue purchased in The purchase allowed him to defer paying federal capital gains taxes on a separate piece of Georgia land which he had previously sold at a profit When that transaction was completed Mr Perdue still owed Georgia about in state taxes Then Mr Perdue signed a bill the following year eliminating that state tax obligation as state law was changed to allow rollover relief on capital gains even if the new property being purchased was out of state During deliberations on the legislation Larry O Neal a member of the Georgia House of Representatives who also worked part time as a personal lawyer for Mr Perdue intervened to make the change in that provision retroactive That meant it would cover Mr Perdue s land deal saving the governor The reported at the time Mr Perdue s spokeswoman said the change in state law was not intended to benefit Mr Perdue It benefited all Georgians the statement said Scott Faber of the Environmental Working Group a nonprofit organization that keeps a close watch on policies at the Agriculture Department said he had questions about Mr Perdue s fitness to take over the department Given his record of and conflicts of interest as governor of Georgia it is fair to ask if he is fit to run a federal agency Mr Faber said But Mr Duvall of the American Farm Bureau Federation believes the opposite Mr Duvall said that as a former farmer Mr Perdue is just what the nation needs to run the department He has worked on a farm and owned businesses that buy and sell grain domestically and internationally Mr Duvall said It ought to be a requirement that someone who runs the U S D A knows something about farming And Sonny certainly does \n"
     ]
    }
   ],
   "source": [
    "#remove spacial character\n",
    "messg_0 = re.sub('[^A-Za-z0-9]+', ' ', messg_0)\n",
    "print(messg_0)"
   ]
  },
  {
   "cell_type": "code",
   "execution_count": 25,
   "metadata": {},
   "outputs": [],
   "source": [
    "stopwords= set(['br', 'the', 'i', 'me', 'my', 'myself', 'we', 'our', 'ours', 'ourselves', 'you', \"you're\", \"you've\",\\\n",
    "            \"you'll\", \"you'd\", 'your', 'yours', 'yourself', 'yourselves', 'he', 'him', 'his', 'himself', \\\n",
    "            'she', \"she's\", 'her', 'hers', 'herself', 'it', \"it's\", 'its', 'itself', 'they', 'them', 'their',\\\n",
    "            'theirs', 'themselves', 'what', 'which', 'who', 'whom', 'this', 'that', \"that'll\", 'these', 'those', \\\n",
    "            'am', 'is', 'are', 'was', 'were', 'be', 'been', 'being', 'have', 'has', 'had', 'having', 'do', 'does', \\\n",
    "            'did', 'doing', 'a', 'an', 'the', 'and', 'but', 'if', 'or', 'because', 'as', 'until', 'while', 'of', \\\n",
    "            'at', 'by', 'for', 'with', 'about', 'against', 'between', 'into', 'through', 'during', 'before', 'after',\\\n",
    "            'above', 'below', 'to', 'from', 'up', 'down', 'in', 'out', 'on', 'off', 'over', 'under', 'again', 'further',\\\n",
    "            'then', 'once', 'here', 'there', 'when', 'where', 'why', 'how', 'all', 'any', 'both', 'each', 'few', 'more',\\\n",
    "            'most', 'other', 'some', 'such', 'only', 'own', 'same', 'so', 'than', 'too', 'very', \\\n",
    "            's', 't', 'can', 'will', 'just', 'don', \"don't\", 'should', \"should've\", 'now', 'd', 'll', 'm', 'o', 're', \\\n",
    "            've', 'y', 'ain', 'aren', \"aren't\", 'couldn', \"couldn't\", 'didn', \"didn't\", 'doesn', \"doesn't\", 'hadn',\\\n",
    "            \"hadn't\", 'hasn', \"hasn't\", 'haven', \"haven't\", 'isn', \"isn't\", 'ma', 'mightn', \"mightn't\", 'mustn',\\\n",
    "            \"mustn't\", 'needn', \"needn't\", 'shan', \"shan't\", 'shouldn', \"shouldn't\", 'wasn', \"wasn't\", 'weren', \"weren't\", \\\n",
    "            'won', \"won't\", 'wouldn', \"wouldn't\"])"
   ]
  },
  {
   "cell_type": "code",
   "execution_count": 26,
   "metadata": {},
   "outputs": [
    {
     "name": "stderr",
     "output_type": "stream",
     "text": [
      "100%|███████████████████████████████████████████████████████████████████████████████████████████████████████████████████████████████| 20800/20800 [00:38<00:00, 542.00it/s]\n"
     ]
    }
   ],
   "source": [
    "# Combining all \n",
    "from tqdm import tqdm\n",
    "preprocessed_news = []\n",
    "# tqdm is for printing the status bar\n",
    "for sentance in tqdm(data['news'].values):\n",
    "    sentance = re.sub(r\"http\\S+\", \"\", sentance)\n",
    "    sentance = BeautifulSoup(sentance, 'lxml').get_text()\n",
    "    sentance = decontracted(sentance)\n",
    "    sentance = re.sub(\"\\S*\\d\\S*\", \"\", sentance).strip()\n",
    "    sentance = re.sub('[^A-Za-z]+', ' ', sentance)\n",
    "    sentance = ' '.join(e.lower() for e in sentance.split() if e.lower() not in stopwords)\n",
    "    preprocessed_news.append(sentance.strip())"
   ]
  },
  {
   "cell_type": "code",
   "execution_count": 27,
   "metadata": {},
   "outputs": [
    {
     "data": {
      "text/plain": [
       "'progressive nomad renewed hope protesters wild buffalo storm horizon video progressive nomad renewed hope protesters wild buffalo storm horizon video stephanie kuklish peaceful protest prayer thursday police armed weapons shot rubber bullets bean bags crowd native american water protectors fighting dakota access pipeline awe hundreds bison appeared showing warriors fighting native americans arrested peaceful prayer bombarded state local police dressed riot gear using violent tactics unarmed warriors though showing bison stop corrupt police attacks bring renewed sense purpose tired motivated crowd bison potent symbol native american heritage blog post incident davidica littlespottedhorse explained legend bison stating great bison buffalo north america powerful symbol american indians though best suited cooler climates bison roamed virtually entire continent smaller woodlands bison bigger cousin plains bison revered honored ceremony everyday life plains indian bison brother meant sacred life abundance creator blessing mother earth bison powerful medicine symbol sacrifice service community bison people agreed give lives american indian could food shelter clothing bison also symbol gratitude honor happy accept meager existence stands proud winds adversity bison represents abundance creator bounty respect creation knowing things sacred moment awe inspiring take look featured image via prairie edge ray tysdal stephanie kuklish something writer passionate politics environment human rights pretty much everything effects everyday life stay top topics discuss like follow connect'"
      ]
     },
     "execution_count": 27,
     "metadata": {},
     "output_type": "execute_result"
    }
   ],
   "source": [
    "#Printing a sample news after the preprocessing and cleaning of the text.\n",
    "preprocessed_news[500]"
   ]
  },
  {
   "cell_type": "code",
   "execution_count": 28,
   "metadata": {},
   "outputs": [
    {
     "data": {
      "text/plain": [
       "'progressive nomad renewed hope protesters wild buffalo storm horizon video progressive nomad renewed hope protesters wild buffalo storm horizon video stephanie kuklish peaceful protest prayer thursday police armed weapons shot rubber bullets bean bags crowd native american water protectors fighting dakota access pipeline awe hundreds bison appeared showing warriors fighting native americans arrested peaceful prayer bombarded state local police dressed riot gear using violent tactics unarmed warriors though showing bison stop corrupt police attacks bring renewed sense purpose tired motivated crowd bison potent symbol native american heritage blog post incident davidica littlespottedhorse explained legend bison stating great bison buffalo north america powerful symbol american indians though best suited cooler climates bison roamed virtually entire continent smaller woodlands bison bigger cousin plains bison revered honored ceremony everyday life plains indian bison brother meant sacred life abundance creator blessing mother earth bison powerful medicine symbol sacrifice service community bison people agreed give lives american indian could food shelter clothing bison also symbol gratitude honor happy accept meager existence stands proud winds adversity bison represents abundance creator bounty respect creation knowing things sacred moment awe inspiring take look featured image via prairie edge ray tysdal stephanie kuklish something writer passionate politics environment human rights pretty much everything effects everyday life stay top topics discuss like follow connect'"
      ]
     },
     "execution_count": 28,
     "metadata": {},
     "output_type": "execute_result"
    }
   ],
   "source": [
    "from nltk.stem import WordNetLemmatizer\n",
    "lemma = WordNetLemmatizer()\n",
    "final_preprocessed_news=[]\n",
    "for i in preprocessed_news:\n",
    "    lemma_message=lemma.lemmatize(i,pos='v')\n",
    "    final_preprocessed_news.append(lemma_message)\n",
    "final_preprocessed_news[500]"
   ]
  },
  {
   "cell_type": "markdown",
   "metadata": {},
   "source": [
    "Building a model using variuos classification models by featurizing the final_preprocessed_news in TFIDF . This activity would inculde hyper parameter tuning , computation of AUC , confusion matrix , classification report and at last best model will be selected"
   ]
  },
  {
   "cell_type": "code",
   "execution_count": 29,
   "metadata": {},
   "outputs": [],
   "source": [
    "from sklearn.model_selection import train_test_split\n",
    "from sklearn.feature_extraction.text import CountVectorizer\n",
    "#######################################################################################################\n",
    "Y = data['label'].values  # taken  label of the final data set after preprocessing\n",
    "X = np.array(final_preprocessed_news)# converted into numpy array as shape cannot be obtained on list\n",
    " "
   ]
  },
  {
   "cell_type": "code",
   "execution_count": 30,
   "metadata": {},
   "outputs": [],
   "source": [
    "dict={'Label':Y , 'News' :X }"
   ]
  },
  {
   "cell_type": "code",
   "execution_count": 31,
   "metadata": {},
   "outputs": [],
   "source": [
    "df=pd.DataFrame(dict)"
   ]
  },
  {
   "cell_type": "code",
   "execution_count": 32,
   "metadata": {},
   "outputs": [
    {
     "data": {
      "text/plain": [
       "(20800, 6)"
      ]
     },
     "execution_count": 32,
     "metadata": {},
     "output_type": "execute_result"
    }
   ],
   "source": [
    "data.shape"
   ]
  },
  {
   "cell_type": "code",
   "execution_count": 33,
   "metadata": {},
   "outputs": [],
   "source": [
    "df_train=df.iloc[:20000,:]\n",
    "df_test=df.iloc[20000:,:]"
   ]
  },
  {
   "cell_type": "markdown",
   "metadata": {},
   "source": [
    "# Train Test Split"
   ]
  },
  {
   "cell_type": "code",
   "execution_count": 36,
   "metadata": {},
   "outputs": [
    {
     "name": "stdout",
     "output_type": "stream",
     "text": [
      "Checking the shape of each data set\n",
      "(13400,) (13400,)\n",
      "(6600,) (6600,)\n",
      "--------------------------------------------------\n"
     ]
    }
   ],
   "source": [
    "#SPLITTING THE DATA SET INTO TRAIN ,TEST DATA\n",
    "#Note:-Here in order to prevent the data leakage I have splitted the data in train , test repectively before transforming into Bow\n",
    "X_train, X_test, y_train, y_test = train_test_split(df_train['News'] ,df_train['Label'], test_size=0.33) # this is random splitting\n",
    "#Checking the shape of each data set\n",
    "print(\"Checking the shape of each data set\")\n",
    "print(X_train.shape, y_train.shape)\n",
    "print(X_test.shape, y_test.shape)\n",
    "print(\"-\"*50)"
   ]
  },
  {
   "cell_type": "markdown",
   "metadata": {},
   "source": [
    "# Featurization in TFIDF"
   ]
  },
  {
   "cell_type": "code",
   "execution_count": 37,
   "metadata": {},
   "outputs": [
    {
     "name": "stdout",
     "output_type": "stream",
     "text": [
      "After vectorizations\n",
      "(13400, 118388) (13400,)\n",
      "(6600, 118388) (6600,)\n",
      "====================================================================================================\n"
     ]
    }
   ],
   "source": [
    "#Vectorizing using tfidf\n",
    "from sklearn.feature_extraction.text import TfidfTransformer\n",
    "from sklearn.feature_extraction.text import TfidfVectorizer\n",
    "tf_idf_vect = TfidfVectorizer()\n",
    "tf_idf_vect.fit(X_train)\n",
    "X_train_tfidf = tf_idf_vect.transform(X_train)\n",
    "X_test_tfidf = tf_idf_vect.transform(X_test)\n",
    "##########################################################################################################\n",
    "#Checking the shape after Vectorization using tfidf\n",
    "print(\"After vectorizations\")\n",
    "print(X_train_tfidf.shape, y_train.shape)# converted the text into numerical vector in the form of tfidf for the TRAIN data\n",
    "print(X_test_tfidf.shape, y_test.shape)# converted the text into numerical vector in the form of tfidf for the TEST data\n",
    "print(\"=\"*100)"
   ]
  },
  {
   "cell_type": "markdown",
   "metadata": {},
   "source": [
    "# Importing all the required libraries for modelling"
   ]
  },
  {
   "cell_type": "code",
   "execution_count": 38,
   "metadata": {},
   "outputs": [],
   "source": [
    "from sklearn.linear_model import LogisticRegression\n",
    "from sklearn.tree import DecisionTreeClassifier\n",
    "from sklearn.naive_bayes import GaussianNB\n",
    "from sklearn.metrics import confusion_matrix\n",
    "from sklearn.metrics import classification_report\n",
    "from sklearn.model_selection import train_test_split\n",
    "from sklearn.metrics import accuracy_score\n",
    "from sklearn.model_selection import GridSearchCV\n",
    "from sklearn.model_selection import cross_val_score\n",
    "import warnings\n",
    "warnings.filterwarnings('ignore')"
   ]
  },
  {
   "cell_type": "markdown",
   "metadata": {},
   "source": [
    "# Defining function to print the accuracy of the Model"
   ]
  },
  {
   "cell_type": "code",
   "execution_count": 39,
   "metadata": {},
   "outputs": [],
   "source": [
    "def accuracy_of_model(model,X_train_tfidf,y_train,X_test_tfidf,y_test):\n",
    "    model.fit(X_train_tfidf,y_train)\n",
    "    pred = model.predict(X_test_tfidf)\n",
    "    print('The accuracy  is {}'.format(accuracy_score(y_test,pred)))\n",
    "    #return accuracy_score(test_y,pred)\n",
    "    "
   ]
  },
  {
   "cell_type": "markdown",
   "metadata": {},
   "source": [
    "# Defining function to plot the train , test AUC and print the confusion matrix."
   ]
  },
  {
   "cell_type": "code",
   "execution_count": 40,
   "metadata": {},
   "outputs": [],
   "source": [
    "from sklearn import metrics\n",
    "from sklearn.metrics import roc_auc_score\n",
    "def roc_curve(model):\n",
    "    fpr_tr,tpr_tr,threshold = metrics.roc_curve(y_train,model.predict_proba(X_train_tfidf)[:,1])\n",
    "    fpr_test,tpr_test,threshold = metrics.roc_curve(y_test,model.predict_proba(X_test_tfidf)[:,1])\n",
    "    plt.plot(fpr_tr,tpr_tr ,label=\"train AUC =\"+str(metrics.auc(fpr_tr,tpr_tr)))\n",
    "    plt.plot(fpr_test,tpr_test ,label=\"test AUC =\"+str(metrics.auc(fpr_test,tpr_test)))\n",
    "    plt.title('ROC curve')\n",
    "    plt.xlabel('FPR')\n",
    "    plt.ylabel('TPR')\n",
    "    plt.legend()\n",
    "    plt.show()\n",
    "    pred=model.predict(X_test_tfidf)\n",
    "    sns.heatmap(confusion_matrix(y_test,pred),annot=True)\n",
    "    print(confusion_matrix(y_test,pred))"
   ]
  },
  {
   "cell_type": "markdown",
   "metadata": {},
   "source": [
    "# Performing various classification models\n",
    "Note :- The performance of the models will compared at the end with the help of Pretty table"
   ]
  },
  {
   "cell_type": "markdown",
   "metadata": {},
   "source": [
    "# 1.DecisionTreeClassifier"
   ]
  },
  {
   "cell_type": "code",
   "execution_count": 41,
   "metadata": {},
   "outputs": [
    {
     "data": {
      "text/plain": [
       "{'max_depth': 10, 'min_samples_split': 10}"
      ]
     },
     "execution_count": 41,
     "metadata": {},
     "output_type": "execute_result"
    }
   ],
   "source": [
    "#max_depth = np.arange(30)\n",
    "parameter={'max_depth':[1, 5, 10, 50, 100, 500, 1000],'min_samples_split':[5, 10,50, 100, 500,1000]}\n",
    "DT=DecisionTreeClassifier()\n",
    "gs=GridSearchCV(DT,parameter,cv=5)\n",
    "gs.fit(X_train_tfidf,y_train)\n",
    "gs.best_params_"
   ]
  },
  {
   "cell_type": "code",
   "execution_count": 42,
   "metadata": {},
   "outputs": [
    {
     "name": "stdout",
     "output_type": "stream",
     "text": [
      "The accuracy  is 0.9457575757575758\n"
     ]
    }
   ],
   "source": [
    "DT=DecisionTreeClassifier(max_depth=10,min_samples_split=10)\n",
    "accuracy=accuracy_of_model(DT,X_train_tfidf,y_train,X_test_tfidf,y_test)\n"
   ]
  },
  {
   "cell_type": "code",
   "execution_count": 43,
   "metadata": {},
   "outputs": [
    {
     "data": {
      "image/png": "[encoded data removed]",
      "text/plain": [
       "<Figure size 432x288 with 1 Axes>"
      ]
     },
     "metadata": {},
     "output_type": "display_data"
    },
    {
     "name": "stdout",
     "output_type": "stream",
     "text": [
      "[[3068  230]\n",
      " [ 128 3174]]\n"
     ]
    },
    {
     "data": {
      "image/png": "[encoded data removed]",
      "text/plain": [
       "<Figure size 432x288 with 2 Axes>"
      ]
     },
     "metadata": {},
     "output_type": "display_data"
    }
   ],
   "source": [
    "roc_curve(DT)"
   ]
  },
  {
   "cell_type": "code",
   "execution_count": 47,
   "metadata": {},
   "outputs": [
    {
     "name": "stdout",
     "output_type": "stream",
     "text": [
      "mean cross_val_score_AUC_SCORE_for_train 0.9496238717547406\n",
      "mean cross_val_score_AUC_SCORE_for_test 0.9388495808683579\n"
     ]
    }
   ],
   "source": [
    "from sklearn.model_selection import cross_val_score\n",
    "print('mean cross_val_score_AUC_SCORE_for_train',cross_val_score(DT,X_train_tfidf,y_train,scoring='roc_auc', cv=5).mean())\n",
    "print('mean cross_val_score_AUC_SCORE_for_test',cross_val_score(DT,X_test_tfidf,y_test,scoring='roc_auc', cv=5).mean())"
   ]
  },
  {
   "cell_type": "markdown",
   "metadata": {},
   "source": [
    "# 2.Naive Bayes"
   ]
  },
  {
   "cell_type": "code",
   "execution_count": 44,
   "metadata": {},
   "outputs": [
    {
     "data": {
      "text/plain": [
       "{'alpha': 0.01}"
      ]
     },
     "execution_count": 44,
     "metadata": {},
     "output_type": "execute_result"
    }
   ],
   "source": [
    "from sklearn.naive_bayes import MultinomialNB\n",
    "parameter={'alpha': [0.000001,0.00001,0.0001,0.001,0.01,1,10,100,1000,10000,100000]}\n",
    "NB=MultinomialNB()\n",
    "gs=GridSearchCV(NB,parameter,cv=5)\n",
    "gs.fit(X_train_tfidf,y_train)\n",
    "gs.best_params_"
   ]
  },
  {
   "cell_type": "code",
   "execution_count": 45,
   "metadata": {},
   "outputs": [
    {
     "name": "stdout",
     "output_type": "stream",
     "text": [
      "The accuracy  is 0.9140909090909091\n"
     ]
    }
   ],
   "source": [
    "NB=MultinomialNB(alpha=0.01)\n",
    "accuracy=accuracy_of_model(NB,X_train_tfidf,y_train,X_test_tfidf,y_test)"
   ]
  },
  {
   "cell_type": "code",
   "execution_count": 46,
   "metadata": {},
   "outputs": [
    {
     "data": {
      "image/png": "[encoded data removed]",
      "text/plain": [
       "<Figure size 432x288 with 1 Axes>"
      ]
     },
     "metadata": {},
     "output_type": "display_data"
    },
    {
     "name": "stdout",
     "output_type": "stream",
     "text": [
      "[[3150  148]\n",
      " [ 419 2883]]\n"
     ]
    },
    {
     "data": {
      "image/png": "[encoded data removed]",
      "text/plain": [
       "<Figure size 432x288 with 2 Axes>"
      ]
     },
     "metadata": {},
     "output_type": "display_data"
    }
   ],
   "source": [
    "roc_curve(NB)"
   ]
  },
  {
   "cell_type": "code",
   "execution_count": 48,
   "metadata": {},
   "outputs": [
    {
     "name": "stdout",
     "output_type": "stream",
     "text": [
      "mean cross_val_score_AUC_SCORE_for_train 0.97520534317392\n",
      "mean cross_val_score_AUC_SCORE_for_test 0.9694159522503437\n"
     ]
    }
   ],
   "source": [
    "print('mean cross_val_score_AUC_SCORE_for_train',cross_val_score(NB,X_train_tfidf,y_train,scoring='roc_auc', cv=5).mean())\n",
    "print('mean cross_val_score_AUC_SCORE_for_test',cross_val_score(NB,X_test_tfidf,y_test,scoring='roc_auc', cv=5).mean())"
   ]
  },
  {
   "cell_type": "markdown",
   "metadata": {},
   "source": [
    "# 3.Logistic Regression"
   ]
  },
  {
   "cell_type": "code",
   "execution_count": 49,
   "metadata": {},
   "outputs": [
    {
     "data": {
      "text/plain": [
       "{'C': 10000, 'penalty': 'l2'}"
      ]
     },
     "execution_count": 49,
     "metadata": {},
     "output_type": "execute_result"
    }
   ],
   "source": [
    "param={'C':[10**-4, 10**-2, 10**0, 10**2, 10**4],'penalty':['l1', 'l2', 'elasticnet']}\n",
    "log=LogisticRegression()\n",
    "gs=GridSearchCV(log,param,cv=5)\n",
    "gs.fit(X_train_tfidf,y_train)\n",
    "gs.best_params_"
   ]
  },
  {
   "cell_type": "code",
   "execution_count": 50,
   "metadata": {},
   "outputs": [
    {
     "name": "stdout",
     "output_type": "stream",
     "text": [
      "The accuracy  is 0.9645454545454546\n"
     ]
    }
   ],
   "source": [
    "log=LogisticRegression(C=10000,penalty='l2')\n",
    "accuracy=accuracy_of_model(log,X_train_tfidf,y_train,X_test_tfidf,y_test)"
   ]
  },
  {
   "cell_type": "code",
   "execution_count": 51,
   "metadata": {},
   "outputs": [
    {
     "data": {
      "image/png": "[encoded data removed]",
      "text/plain": [
       "<Figure size 432x288 with 1 Axes>"
      ]
     },
     "metadata": {},
     "output_type": "display_data"
    },
    {
     "name": "stdout",
     "output_type": "stream",
     "text": [
      "[[3175  123]\n",
      " [ 111 3191]]\n"
     ]
    },
    {
     "data": {
      "image/png": "[encoded data removed]",
      "text/plain": [
       "<Figure size 432x288 with 2 Axes>"
      ]
     },
     "metadata": {},
     "output_type": "display_data"
    }
   ],
   "source": [
    "roc_curve(log)"
   ]
  },
  {
   "cell_type": "code",
   "execution_count": 52,
   "metadata": {},
   "outputs": [
    {
     "name": "stdout",
     "output_type": "stream",
     "text": [
      "mean cross_val_score_AUC_SCORE_for_train 0.993463230888592\n",
      "mean cross_val_score_AUC_SCORE_for_test 0.9909352543750638\n"
     ]
    }
   ],
   "source": [
    "print('mean cross_val_score_AUC_SCORE_for_train',cross_val_score(log,X_train_tfidf,y_train,scoring='roc_auc', cv=5).mean())\n",
    "print('mean cross_val_score_AUC_SCORE_for_test',cross_val_score(log,X_test_tfidf,y_test,scoring='roc_auc', cv=5).mean())"
   ]
  },
  {
   "cell_type": "markdown",
   "metadata": {},
   "source": [
    "# 4.RandomForestClassifier"
   ]
  },
  {
   "cell_type": "code",
   "execution_count": 53,
   "metadata": {},
   "outputs": [
    {
     "data": {
      "text/plain": [
       "{'max_depth': 1000, 'n_estimators': 1000}"
      ]
     },
     "execution_count": 53,
     "metadata": {},
     "output_type": "execute_result"
    }
   ],
   "source": [
    "from sklearn.ensemble import RandomForestClassifier\n",
    "parameters={'n_estimators':[10,50,100,500,1000],'max_depth':[1, 5, 10, 50, 100, 500, 1000]}\n",
    "RF=RandomForestClassifier()\n",
    "gs=GridSearchCV(RF,parameters,cv=5)\n",
    "gs.fit(X_train_tfidf,y_train)\n",
    "gs.best_params_"
   ]
  },
  {
   "cell_type": "code",
   "execution_count": 54,
   "metadata": {},
   "outputs": [
    {
     "name": "stdout",
     "output_type": "stream",
     "text": [
      "The accuracy  is 0.9463636363636364\n"
     ]
    }
   ],
   "source": [
    "RF=RandomForestClassifier(n_estimators=1000,max_depth=1000)\n",
    "accuracy=accuracy_of_model(RF,X_train_tfidf,y_train,X_test_tfidf,y_test)"
   ]
  },
  {
   "cell_type": "code",
   "execution_count": 55,
   "metadata": {},
   "outputs": [
    {
     "data": {
      "image/png": "[encoded data removed]",
      "text/plain": [
       "<Figure size 432x288 with 1 Axes>"
      ]
     },
     "metadata": {},
     "output_type": "display_data"
    },
    {
     "name": "stdout",
     "output_type": "stream",
     "text": [
      "[[3158  140]\n",
      " [ 214 3088]]\n"
     ]
    },
    {
     "data": {
      "image/png": "[encoded data removed]",
      "text/plain": [
       "<Figure size 432x288 with 2 Axes>"
      ]
     },
     "metadata": {},
     "output_type": "display_data"
    }
   ],
   "source": [
    "roc_curve(RF)"
   ]
  },
  {
   "cell_type": "code",
   "execution_count": 56,
   "metadata": {},
   "outputs": [
    {
     "name": "stdout",
     "output_type": "stream",
     "text": [
      "mean cross_val_score_AUC_SCORE_for_train 0.9875684219650367\n",
      "mean cross_val_score_AUC_SCORE_for_test 0.9844632557775466\n"
     ]
    }
   ],
   "source": [
    "print('mean cross_val_score_AUC_SCORE_for_train',cross_val_score(RF,X_train_tfidf,y_train,scoring='roc_auc', cv=5).mean())\n",
    "print('mean cross_val_score_AUC_SCORE_for_test',cross_val_score(RF,X_test_tfidf,y_test,scoring='roc_auc', cv=5).mean())"
   ]
  },
  {
   "cell_type": "code",
   "execution_count": 57,
   "metadata": {},
   "outputs": [
    {
     "name": "stdout",
     "output_type": "stream",
     "text": [
      "+------------+---------------------+----------+--------------+-------------+\n",
      "| Vectorizer |        Model        | Accuracy | CV-Train AUC | CV-Test AUC |\n",
      "+------------+---------------------+----------+--------------+-------------+\n",
      "|   TFIDF    |    Decision Tree    |   0.94   |     0.98     |     0.96    |\n",
      "|   TFIDF    |     Naive Bayes     |   0.91   |     0.99     |     0.97    |\n",
      "|   TFIDF    | Logistic Regression |   0.96   |     1.0      |     0.99    |\n",
      "|   TFIDF    |     RandomForest    |   0.94   |     1.0      |     0.99    |\n",
      "+------------+---------------------+----------+--------------+-------------+\n"
     ]
    }
   ],
   "source": [
    "# Please compare all your models using Prettytable library\n",
    "from prettytable import PrettyTable\n",
    "x = PrettyTable()\n",
    "x.field_names = [\"Vectorizer\", \"Model\",\"Accuracy\", \"CV-Train AUC\", 'CV-Test AUC']\n",
    "x.add_row([\"TFIDF\",\"Decision Tree\",0.94,0.98,0.96])\n",
    "x.add_row([\"TFIDF\",\"Naive Bayes\",0.91,0.99,0.97])\n",
    "x.add_row([\"TFIDF\",\"Logistic Regression\",0.96,1.0,0.99])\n",
    "x.add_row([\"TFIDF\",\"RandomForest\",0.94,1.0,0.99])\n",
    "\n",
    "print(x)"
   ]
  },
  {
   "cell_type": "markdown",
   "metadata": {},
   "source": [
    "# BEST MODEL - Logistic Regression"
   ]
  },
  {
   "cell_type": "markdown",
   "metadata": {},
   "source": [
    "Now in the next phase of our model , we will be predicting the label (positive/negative) of the email using best model on the test data and at last we will be printing some words that are contributing to positive response and negative label respectively"
   ]
  },
  {
   "cell_type": "code",
   "execution_count": 63,
   "metadata": {},
   "outputs": [],
   "source": [
    "df_test=df.iloc[20000:,:]"
   ]
  },
  {
   "cell_type": "code",
   "execution_count": 61,
   "metadata": {},
   "outputs": [],
   "source": [
    "#Vectorizing using tfidf\n",
    "from sklearn.feature_extraction.text import TfidfTransformer\n",
    "from sklearn.feature_extraction.text import TfidfVectorizer\n",
    "tf_idf_vect = TfidfVectorizer()\n",
    "tf_idf_vect.fit(df_test['News'])\n",
    "UNSEEN_tfidf = tf_idf_vect.transform(df_test['News'])\n"
   ]
  },
  {
   "cell_type": "code",
   "execution_count": 62,
   "metadata": {},
   "outputs": [],
   "source": [
    "log=LogisticRegression(C=10000,penalty='l2')"
   ]
  },
  {
   "cell_type": "code",
   "execution_count": 67,
   "metadata": {},
   "outputs": [
    {
     "name": "stdout",
     "output_type": "stream",
     "text": [
      "Accuracy 1.0\n"
     ]
    }
   ],
   "source": [
    "log.fit(UNSEEN_tfidf,df_test['Label'])\n",
    "pred = log.predict(UNSEEN_tfidf)\n",
    "print('Accuracy',accuracy_score(df_test['Label'],pred))\n"
   ]
  },
  {
   "cell_type": "code",
   "execution_count": 72,
   "metadata": {},
   "outputs": [
    {
     "name": "stdout",
     "output_type": "stream",
     "text": [
      "classification Report \n",
      "               precision    recall  f1-score   support\n",
      "\n",
      "           0       1.00      1.00      1.00       398\n",
      "           1       1.00      1.00      1.00       402\n",
      "\n",
      "    accuracy                           1.00       800\n",
      "   macro avg       1.00      1.00      1.00       800\n",
      "weighted avg       1.00      1.00      1.00       800\n",
      "\n"
     ]
    }
   ],
   "source": [
    "print('classification Report \\n',classification_report(df_test['Label'],pred))"
   ]
  },
  {
   "cell_type": "code",
   "execution_count": 73,
   "metadata": {},
   "outputs": [],
   "source": [
    "dict1={'Predicted label':pred , 'Actual Label':df_test['Label']}"
   ]
  },
  {
   "cell_type": "code",
   "execution_count": 74,
   "metadata": {},
   "outputs": [],
   "source": [
    "df=pd.DataFrame(dict1)"
   ]
  },
  {
   "cell_type": "code",
   "execution_count": 75,
   "metadata": {},
   "outputs": [
    {
     "data": {
      "text/html": [
       "<div>\n",
       "<style scoped>\n",
       "    .dataframe tbody tr th:only-of-type {\n",
       "        vertical-align: middle;\n",
       "    }\n",
       "\n",
       "    .dataframe tbody tr th {\n",
       "        vertical-align: top;\n",
       "    }\n",
       "\n",
       "    .dataframe thead th {\n",
       "        text-align: right;\n",
       "    }\n",
       "</style>\n",
       "<table border=\"1\" class=\"dataframe\">\n",
       "  <thead>\n",
       "    <tr style=\"text-align: right;\">\n",
       "      <th></th>\n",
       "      <th>Predicted label</th>\n",
       "      <th>Actual Label</th>\n",
       "    </tr>\n",
       "  </thead>\n",
       "  <tbody>\n",
       "    <tr>\n",
       "      <td>20000</td>\n",
       "      <td>1</td>\n",
       "      <td>1</td>\n",
       "    </tr>\n",
       "    <tr>\n",
       "      <td>20001</td>\n",
       "      <td>1</td>\n",
       "      <td>1</td>\n",
       "    </tr>\n",
       "    <tr>\n",
       "      <td>20002</td>\n",
       "      <td>1</td>\n",
       "      <td>1</td>\n",
       "    </tr>\n",
       "    <tr>\n",
       "      <td>20003</td>\n",
       "      <td>1</td>\n",
       "      <td>1</td>\n",
       "    </tr>\n",
       "    <tr>\n",
       "      <td>20004</td>\n",
       "      <td>0</td>\n",
       "      <td>0</td>\n",
       "    </tr>\n",
       "    <tr>\n",
       "      <td>...</td>\n",
       "      <td>...</td>\n",
       "      <td>...</td>\n",
       "    </tr>\n",
       "    <tr>\n",
       "      <td>20795</td>\n",
       "      <td>1</td>\n",
       "      <td>1</td>\n",
       "    </tr>\n",
       "    <tr>\n",
       "      <td>20796</td>\n",
       "      <td>1</td>\n",
       "      <td>1</td>\n",
       "    </tr>\n",
       "    <tr>\n",
       "      <td>20797</td>\n",
       "      <td>1</td>\n",
       "      <td>1</td>\n",
       "    </tr>\n",
       "    <tr>\n",
       "      <td>20798</td>\n",
       "      <td>0</td>\n",
       "      <td>0</td>\n",
       "    </tr>\n",
       "    <tr>\n",
       "      <td>20799</td>\n",
       "      <td>0</td>\n",
       "      <td>0</td>\n",
       "    </tr>\n",
       "  </tbody>\n",
       "</table>\n",
       "<p>800 rows × 2 columns</p>\n",
       "</div>"
      ],
      "text/plain": [
       "       Predicted label  Actual Label\n",
       "20000                1             1\n",
       "20001                1             1\n",
       "20002                1             1\n",
       "20003                1             1\n",
       "20004                0             0\n",
       "...                ...           ...\n",
       "20795                1             1\n",
       "20796                1             1\n",
       "20797                1             1\n",
       "20798                0             0\n",
       "20799                0             0\n",
       "\n",
       "[800 rows x 2 columns]"
      ]
     },
     "execution_count": 75,
     "metadata": {},
     "output_type": "execute_result"
    }
   ],
   "source": [
    "df"
   ]
  },
  {
   "cell_type": "code",
   "execution_count": null,
   "metadata": {},
   "outputs": [],
   "source": []
  }
 ],
 "metadata": {
  "kernelspec": {
   "display_name": "Python 3",
   "language": "python",
   "name": "python3"
  },
  "language_info": {
   "codemirror_mode": {
    "name": "ipython",
    "version": 3
   },
   "file_extension": ".py",
   "mimetype": "text/x-python",
   "name": "python",
   "nbconvert_exporter": "python",
   "pygments_lexer": "ipython3",
   "version": "3.6.5"
  }
 },
 "nbformat": 4,
 "nbformat_minor": 2
}
