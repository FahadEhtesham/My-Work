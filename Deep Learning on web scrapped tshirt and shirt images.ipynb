{
 "cells": [
  {
   "cell_type": "markdown",
   "metadata": {},
   "source": [
    "# Deep Learning using CNN on webscrapped images"
   ]
  },
  {
   "cell_type": "markdown",
   "metadata": {},
   "source": [
    "Importing all required Libraries"
   ]
  },
  {
   "cell_type": "code",
   "execution_count": 9,
   "metadata": {},
   "outputs": [],
   "source": [
    "import numpy as np\n",
    "import os\n",
    "from keras.models import Sequential\n",
    "from keras.layers import Activation,Dropout,Flatten,Dense\n",
    "from keras.preprocessing.image import ImageDataGenerator\n",
    "from keras.layers import Conv2D,MaxPooling2D,ZeroPadding2D\n",
    "from keras import optimizers\n",
    "import scipy\n",
    "import pylab as pl\n",
    "import matplotlib.cm as cm\n",
    "%matplotlib inline"
   ]
  },
  {
   "cell_type": "code",
   "execution_count": 49,
   "metadata": {},
   "outputs": [],
   "source": [
    "input_shape=(150,150,3)\n",
    "image_width=150\n",
    "image_height=150\n",
    "nb_train_samples=140\n",
    "nb_validation_samples=20\n",
    "\n",
    "batch_size= 20\n",
    "epochs = 15\n",
    "\n",
    "train_data_dir=\"C:/Users/Fahad Ehtesham/Desktop/data Trained/FLIP ROBO/Web Scrapping/Train\"\n",
    "validation_data_dir=\"C:/Users/Fahad Ehtesham/Desktop/data Trained/FLIP ROBO/Web Scrapping/Validation\"\n"
   ]
  },
  {
   "cell_type": "code",
   "execution_count": 21,
   "metadata": {},
   "outputs": [
    {
     "name": "stdout",
     "output_type": "stream",
     "text": [
      "Found 140 images belonging to 2 classes.\n",
      "Found 20 images belonging to 2 classes.\n"
     ]
    }
   ],
   "source": [
    "#Rescale the pixels values from [0,255] to [0,1] interval\n",
    "datagen=ImageDataGenerator(rescale=1./255)\n",
    "\n",
    "#automatically retrieves images and their classes for train and validation sets\n",
    "train_generator=datagen.flow_from_directory(\n",
    "                    train_data_dir,\n",
    "                    target_size=(image_width,image_height),\n",
    "                     batch_size=16 ,class_mode='binary')\n",
    "\n",
    "validation_generator=datagen.flow_from_directory(\n",
    "                    validation_data_dir,\n",
    "                    target_size=(image_width,image_height),\n",
    "                     batch_size=32 ,class_mode='binary')\n"
   ]
  },
  {
   "cell_type": "markdown",
   "metadata": {},
   "source": [
    "# Defining The Network"
   ]
  },
  {
   "cell_type": "code",
   "execution_count": 50,
   "metadata": {},
   "outputs": [
    {
     "name": "stdout",
     "output_type": "stream",
     "text": [
      "_________________________________________________________________\n",
      "Layer (type)                 Output Shape              Param #   \n",
      "=================================================================\n",
      "conv2d_10 (Conv2D)           (None, 148, 148, 32)      896       \n",
      "_________________________________________________________________\n",
      "conv2d_11 (Conv2D)           (None, 146, 146, 64)      18496     \n",
      "_________________________________________________________________\n",
      "max_pooling2d_7 (MaxPooling2 (None, 73, 73, 64)        0         \n",
      "_________________________________________________________________\n",
      "dropout_10 (Dropout)         (None, 73, 73, 64)        0         \n",
      "_________________________________________________________________\n",
      "conv2d_12 (Conv2D)           (None, 71, 71, 64)        36928     \n",
      "_________________________________________________________________\n",
      "max_pooling2d_8 (MaxPooling2 (None, 35, 35, 64)        0         \n",
      "_________________________________________________________________\n",
      "dropout_11 (Dropout)         (None, 35, 35, 64)        0         \n",
      "_________________________________________________________________\n",
      "flatten_4 (Flatten)          (None, 78400)             0         \n",
      "_________________________________________________________________\n",
      "dense_7 (Dense)              (None, 64)                5017664   \n",
      "_________________________________________________________________\n",
      "activation_7 (Activation)    (None, 64)                0         \n",
      "_________________________________________________________________\n",
      "dropout_12 (Dropout)         (None, 64)                0         \n",
      "_________________________________________________________________\n",
      "dense_8 (Dense)              (None, 1)                 65        \n",
      "_________________________________________________________________\n",
      "activation_8 (Activation)    (None, 1)                 0         \n",
      "=================================================================\n",
      "Total params: 5,074,049\n",
      "Trainable params: 5,074,049\n",
      "Non-trainable params: 0\n",
      "_________________________________________________________________\n",
      "None\n"
     ]
    }
   ],
   "source": [
    "model = Sequential()\n",
    "model.add(Conv2D(32, kernel_size=(3, 3),\n",
    "                 activation='relu',\n",
    "                 input_shape=input_shape))\n",
    "model.add(Conv2D(64, (3, 3), activation='relu'))\n",
    "model.add(MaxPooling2D(pool_size=(2, 2)))\n",
    "model.add(Dropout(0.5))\n",
    "model.add(Conv2D(64, (3, 3), activation='relu'))\n",
    "model.add(MaxPooling2D(pool_size=(2, 2)))\n",
    "model.add(Dropout(0.25))\n",
    "model.add(Flatten())\n",
    "model.add(Dense(64))\n",
    "model.add(Activation('relu'))\n",
    "model.add(Dropout(0.5))\n",
    "model.add(Dense(1))\n",
    "model.add(Activation('sigmoid'))\n",
    "print(model.summary())\n"
   ]
  },
  {
   "cell_type": "code",
   "execution_count": 51,
   "metadata": {},
   "outputs": [],
   "source": [
    "import keras\n",
    "import keras.utils\n",
    "from keras import utils as np_utils\n",
    "model.compile(loss='binary_crossentropy',\n",
    "              optimizer='Adam',\n",
    "              metrics=['accuracy'])"
   ]
  },
  {
   "cell_type": "markdown",
   "metadata": {},
   "source": [
    "# Data Augmentation"
   ]
  },
  {
   "cell_type": "code",
   "execution_count": 45,
   "metadata": {},
   "outputs": [
    {
     "name": "stdout",
     "output_type": "stream",
     "text": [
      "Found 140 images belonging to 2 classes.\n"
     ]
    }
   ],
   "source": [
    "train_datagen_augmented=ImageDataGenerator(\n",
    "                        rescale=1./255,shear_range=0.2,zoom_range=0.2,rotation_range=30,\n",
    "                        horizontal_flip=True)\n",
    "\n",
    "\n",
    "train_generator_augmented=train_datagen_augmented.flow_from_directory(\n",
    "                    train_data_dir,\n",
    "                    target_size=(image_width,image_height),\n",
    "                     batch_size=batch_size ,class_mode='binary')"
   ]
  },
  {
   "cell_type": "markdown",
   "metadata": {},
   "source": [
    "# Fitting the model"
   ]
  },
  {
   "cell_type": "code",
   "execution_count": 52,
   "metadata": {},
   "outputs": [
    {
     "name": "stdout",
     "output_type": "stream",
     "text": [
      "Epoch 1/15\n",
      "7/7 [==============================] - 5s 766ms/step - loss: 5.1475 - acc: 0.5014 - val_loss: 0.6964 - val_acc: 0.5000\n",
      "Epoch 2/15\n",
      "7/7 [==============================] - 3s 374ms/step - loss: 0.7971 - acc: 0.5033 - val_loss: 0.6927 - val_acc: 0.5000\n",
      "Epoch 3/15\n",
      "7/7 [==============================] - 3s 374ms/step - loss: 0.6809 - acc: 0.5219 - val_loss: 0.6920 - val_acc: 0.5000\n",
      "Epoch 4/15\n",
      "7/7 [==============================] - 2s 357ms/step - loss: 0.6494 - acc: 0.5738 - val_loss: 0.6880 - val_acc: 0.5000\n",
      "Epoch 5/15\n",
      "7/7 [==============================] - 3s 374ms/step - loss: 0.5712 - acc: 0.7108 - val_loss: 0.6759 - val_acc: 0.5000\n",
      "Epoch 6/15\n",
      "7/7 [==============================] - 3s 357ms/step - loss: 0.5436 - acc: 0.7648 - val_loss: 0.6391 - val_acc: 0.6000\n",
      "Epoch 7/15\n",
      "7/7 [==============================] - 3s 377ms/step - loss: 0.4811 - acc: 0.7835 - val_loss: 0.6206 - val_acc: 0.7000\n",
      "Epoch 8/15\n",
      "7/7 [==============================] - 3s 374ms/step - loss: 0.3769 - acc: 0.8527 - val_loss: 0.4568 - val_acc: 0.8500\n",
      "Epoch 9/15\n",
      "7/7 [==============================] - 3s 358ms/step - loss: 0.2939 - acc: 0.8690 - val_loss: 0.4012 - val_acc: 0.9000\n",
      "Epoch 10/15\n",
      "7/7 [==============================] - 3s 374ms/step - loss: 0.2701 - acc: 0.9048 - val_loss: 0.3975 - val_acc: 0.9000\n",
      "Epoch 11/15\n",
      "7/7 [==============================] - 3s 380ms/step - loss: 0.2164 - acc: 0.9455 - val_loss: 0.2686 - val_acc: 0.9000\n",
      "Epoch 12/15\n",
      "7/7 [==============================] - 3s 378ms/step - loss: 0.1586 - acc: 0.9521 - val_loss: 0.2795 - val_acc: 0.9500\n",
      "Epoch 13/15\n",
      "7/7 [==============================] - 3s 380ms/step - loss: 0.1267 - acc: 0.9548 - val_loss: 0.2632 - val_acc: 0.9000\n",
      "Epoch 14/15\n",
      "7/7 [==============================] - 3s 363ms/step - loss: 0.0841 - acc: 0.9738 - val_loss: 0.3298 - val_acc: 0.8500\n",
      "Epoch 15/15\n",
      "7/7 [==============================] - 3s 386ms/step - loss: 0.1042 - acc: 0.9548 - val_loss: 0.2233 - val_acc: 0.9500\n"
     ]
    }
   ],
   "source": [
    "history=model.fit_generator(train_generator,steps_per_epoch=nb_train_samples//batch_size,epochs=epochs,\n",
    "                           validation_data=validation_generator,\n",
    "                            validation_steps=nb_validation_samples//batch_size)"
   ]
  },
  {
   "cell_type": "code",
   "execution_count": 53,
   "metadata": {},
   "outputs": [],
   "source": [
    "history_dict=history.history"
   ]
  },
  {
   "cell_type": "code",
   "execution_count": 55,
   "metadata": {},
   "outputs": [
    {
     "data": {
      "text/plain": [
       "{'val_loss': [0.696402907371521,\n",
       "  0.6927276849746704,\n",
       "  0.6919798254966736,\n",
       "  0.6880208253860474,\n",
       "  0.6759365200996399,\n",
       "  0.6391419172286987,\n",
       "  0.6206377148628235,\n",
       "  0.4567933678627014,\n",
       "  0.40123724937438965,\n",
       "  0.39746934175491333,\n",
       "  0.26858532428741455,\n",
       "  0.2795068621635437,\n",
       "  0.26316753029823303,\n",
       "  0.32981398701667786,\n",
       "  0.22330670058727264],\n",
       " 'val_acc': [0.5,\n",
       "  0.5,\n",
       "  0.5,\n",
       "  0.5,\n",
       "  0.5,\n",
       "  0.6000000238418579,\n",
       "  0.699999988079071,\n",
       "  0.8500000238418579,\n",
       "  0.8999999761581421,\n",
       "  0.8999999761581421,\n",
       "  0.8999999761581421,\n",
       "  0.949999988079071,\n",
       "  0.8999999761581421,\n",
       "  0.8500000238418579,\n",
       "  0.949999988079071],\n",
       " 'loss': [5.338594596636923,\n",
       "  0.7983761638402939,\n",
       "  0.6804759114980697,\n",
       "  0.6510087345775805,\n",
       "  0.5669784694910049,\n",
       "  0.5406321647920107,\n",
       "  0.4767791047692299,\n",
       "  0.375769679248333,\n",
       "  0.2983727862960414,\n",
       "  0.27009635269641874,\n",
       "  0.20551597366207525,\n",
       "  0.16325433626770974,\n",
       "  0.12544653844088316,\n",
       "  0.08703049958536499,\n",
       "  0.10249272733926773],\n",
       " 'acc': [0.4947368518302315,\n",
       "  0.5100000113248825,\n",
       "  0.5250000014901162,\n",
       "  0.5736842092714811,\n",
       "  0.7199999958276748,\n",
       "  0.7684210538864136,\n",
       "  0.784999993443489,\n",
       "  0.8549999862909317,\n",
       "  0.868421058905752,\n",
       "  0.904999989271164,\n",
       "  0.9473684053671988,\n",
       "  0.9499999940395355,\n",
       "  0.9549999922513962,\n",
       "  0.973684201115056,\n",
       "  0.9549999922513962]}"
      ]
     },
     "execution_count": 55,
     "metadata": {},
     "output_type": "execute_result"
    }
   ],
   "source": [
    "history_dict"
   ]
  },
  {
   "cell_type": "markdown",
   "metadata": {},
   "source": [
    "# Plotting Loss charts"
   ]
  },
  {
   "cell_type": "code",
   "execution_count": 58,
   "metadata": {},
   "outputs": [
    {
     "data": {
      "image/png": "[encoded data removed]",
      "text/plain": [
       "<Figure size 432x288 with 1 Axes>"
      ]
     },
     "metadata": {},
     "output_type": "display_data"
    }
   ],
   "source": [
    "\n",
    "import matplotlib.pyplot as plt\n",
    "loss_values=history_dict['loss']\n",
    "val_loss_values=history_dict['val_loss']\n",
    "epochs=range(1,len(loss_values)+1)\n",
    "\n",
    "line1=plt.plot(epochs,val_loss_values,label='Validation/Test Loss')\n",
    "line2=plt.plot(epochs,loss_values,label='Training loss')\n",
    "plt.setp(line1,linewidth=2.0,marker='+',markersize=10.0)\n",
    "plt.setp(line2,linewidth=2.0,marker='4',markersize=10.0)\n",
    "plt.xlabel('Epochs')\n",
    "plt.ylabel('Loss')\n",
    "plt.grid(True)\n",
    "plt.legend()\n",
    "plt.show()"
   ]
  },
  {
   "cell_type": "markdown",
   "metadata": {},
   "source": [
    "# Plotting accuracy charts"
   ]
  },
  {
   "cell_type": "code",
   "execution_count": 59,
   "metadata": {},
   "outputs": [
    {
     "data": {
      "image/png": "[encoded data removed]",
      "text/plain": [
       "<Figure size 432x288 with 1 Axes>"
      ]
     },
     "metadata": {},
     "output_type": "display_data"
    }
   ],
   "source": [
    "import matplotlib.pyplot as plt\n",
    "accuracy=history_dict['acc']\n",
    "val_accuracy_values=history_dict['val_acc']\n",
    "epochs=range(1,len(accuracy)+1)\n",
    "\n",
    "line1=plt.plot(epochs,val_accuracy_values,label='Validation/Test accuracy')\n",
    "line2=plt.plot(epochs,accuracy,label='Training accuracy')\n",
    "plt.setp(line1,linewidth=2.0,marker='+',markersize=10.0)\n",
    "plt.setp(line2,linewidth=2.0,marker='4',markersize=10.0)\n",
    "plt.xlabel('Epochs')\n",
    "plt.ylabel('Accuracy')\n",
    "plt.grid(True)\n",
    "plt.legend()\n",
    "plt.show()"
   ]
  },
  {
   "cell_type": "markdown",
   "metadata": {},
   "source": [
    "# Saving The model"
   ]
  },
  {
   "cell_type": "code",
   "execution_count": 60,
   "metadata": {},
   "outputs": [],
   "source": [
    "model.save(\"Deep Learning on Shirt vs Tshirt web scrapped.h5 \")"
   ]
  }
 ],
 "metadata": {
  "kernelspec": {
   "display_name": "Python 3",
   "language": "python",
   "name": "python3"
  },
  "language_info": {
   "codemirror_mode": {
    "name": "ipython",
    "version": 3
   },
   "file_extension": ".py",
   "mimetype": "text/x-python",
   "name": "python",
   "nbconvert_exporter": "python",
   "pygments_lexer": "ipython3",
   "version": "3.6.5"
  }
 },
 "nbformat": 4,
 "nbformat_minor": 2
}
